{
 "cells": [
  {
   "cell_type": "code",
   "execution_count": 1,
   "metadata": {},
   "outputs": [],
   "source": [
    "import logging\n",
    "import numpy\n",
    "import numpy as np\n",
    "import pandas as pd\n",
    "from math import *\n",
    "from datetime import datetime\n",
    "from operator import itemgetter\n",
    "from zipfile import ZipFile\n",
    "from io import BytesIO\n",
    "import pickle\n",
    "from urllib.request import urlopen\n",
    "\n",
    "from IPython.display import Image\n",
    "import matplotlib.pyplot as plt\n",
    "import seaborn as sns\n",
    "import plotly.express as px\n",
    "\n",
    "from numpy import inf\n",
    "from scipy.stats import kurtosis, skew\n",
    "\n",
    "from sklearn.metrics import accuracy_score\n",
    "from sklearn.model_selection import train_test_split\n",
    "from sklearn import ensemble\n",
    "from sklearn.metrics import confusion_matrix\n",
    "from sklearn.metrics import classification_report\n",
    "from sklearn.metrics import roc_auc_score\n",
    "from sklearn import metrics\n",
    "from sklearn.linear_model import LogisticRegression\n",
    "from sklearn.linear_model import LinearRegression\n",
    "from sklearn.metrics import average_precision_score\n",
    "from sklearn.metrics import mean_squared_error\n",
    "\n",
    "\n",
    "\n",
    "import warnings\n",
    "warnings.filterwarnings('ignore')\n",
    "\n",
    "from functions import *\n",
    "from fair_func import *"
   ]
  },
  {
   "cell_type": "code",
   "execution_count": 2,
   "metadata": {},
   "outputs": [],
   "source": [
    "from pandas.api.types import CategoricalDtype\n"
   ]
  },
  {
   "cell_type": "markdown",
   "metadata": {},
   "source": [
    "<span style=\"float:right;\"> [TOC](#TOC) </span>"
   ]
  },
  {
   "cell_type": "markdown",
   "metadata": {},
   "source": [
    "----"
   ]
  },
  {
   "cell_type": "markdown",
   "metadata": {},
   "source": [
    "<a id=\"2\"> </a> \n",
    "\n",
    "<div class=\"alert alert-block alert-warning\">\n",
    "<span style=\"font-family:Futura Next; font-size:2em;\">Loading and preparing the data</span>\n",
    "</div>"
   ]
  },
  {
   "cell_type": "code",
   "execution_count": 3,
   "metadata": {},
   "outputs": [],
   "source": [
    "data = pd.read_csv('RAIdata.csv')"
   ]
  },
  {
   "cell_type": "markdown",
   "metadata": {},
   "source": [
    "<a id=\"3\"> </a> \n",
    "\n",
    "<div class=\"alert alert-block alert-warning\">\n",
    "<span style=\"font-family:Futura Next; font-size:2em;\">Exploring data</span>\n",
    "</div>"
   ]
  },
  {
   "cell_type": "code",
   "execution_count": 4,
   "metadata": {},
   "outputs": [
    {
     "data": {
      "text/plain": [
       "(61321, 206)"
      ]
     },
     "execution_count": 4,
     "metadata": {},
     "output_type": "execute_result"
    }
   ],
   "source": [
    "data.shape"
   ]
  },
  {
   "cell_type": "code",
   "execution_count": 5,
   "metadata": {},
   "outputs": [
    {
     "data": {
      "text/plain": [
       "0.0    46752\n",
       "1.0    14569\n",
       "Name: Default, dtype: int64"
      ]
     },
     "execution_count": 5,
     "metadata": {},
     "output_type": "execute_result"
    }
   ],
   "source": [
    "data[\"Default\"].value_counts()"
   ]
  },
  {
   "cell_type": "code",
   "execution_count": 6,
   "metadata": {},
   "outputs": [
    {
     "data": {
      "text/html": [
       "<div>\n",
       "<style scoped>\n",
       "    .dataframe tbody tr th:only-of-type {\n",
       "        vertical-align: middle;\n",
       "    }\n",
       "\n",
       "    .dataframe tbody tr th {\n",
       "        vertical-align: top;\n",
       "    }\n",
       "\n",
       "    .dataframe thead th {\n",
       "        text-align: right;\n",
       "    }\n",
       "</style>\n",
       "<table border=\"1\" class=\"dataframe\">\n",
       "  <thead>\n",
       "    <tr style=\"text-align: right;\">\n",
       "      <th></th>\n",
       "      <th>0</th>\n",
       "      <th>1</th>\n",
       "      <th>2</th>\n",
       "      <th>3</th>\n",
       "      <th>4</th>\n",
       "    </tr>\n",
       "  </thead>\n",
       "  <tbody>\n",
       "    <tr>\n",
       "      <th>Unnamed: 0</th>\n",
       "      <td>0.000000</td>\n",
       "      <td>1.0000</td>\n",
       "      <td>2.000000</td>\n",
       "      <td>3.000000</td>\n",
       "      <td>4.0000</td>\n",
       "    </tr>\n",
       "    <tr>\n",
       "      <th>Age</th>\n",
       "      <td>54.000000</td>\n",
       "      <td>52.0000</td>\n",
       "      <td>28.000000</td>\n",
       "      <td>40.000000</td>\n",
       "      <td>31.0000</td>\n",
       "    </tr>\n",
       "    <tr>\n",
       "      <th>AppliedAmount</th>\n",
       "      <td>8505.000000</td>\n",
       "      <td>2230.0000</td>\n",
       "      <td>530.000000</td>\n",
       "      <td>1380.000000</td>\n",
       "      <td>530.0000</td>\n",
       "    </tr>\n",
       "    <tr>\n",
       "      <th>DebtToIncome</th>\n",
       "      <td>0.000000</td>\n",
       "      <td>0.0000</td>\n",
       "      <td>0.000000</td>\n",
       "      <td>0.000000</td>\n",
       "      <td>0.0000</td>\n",
       "    </tr>\n",
       "    <tr>\n",
       "      <th>ExpectedLoss</th>\n",
       "      <td>0.118622</td>\n",
       "      <td>0.0592</td>\n",
       "      <td>0.048764</td>\n",
       "      <td>0.071894</td>\n",
       "      <td>0.0437</td>\n",
       "    </tr>\n",
       "    <tr>\n",
       "      <th>...</th>\n",
       "      <td>...</td>\n",
       "      <td>...</td>\n",
       "      <td>...</td>\n",
       "      <td>...</td>\n",
       "      <td>...</td>\n",
       "    </tr>\n",
       "    <tr>\n",
       "      <th>WorkExperience_2To5Years</th>\n",
       "      <td>0.000000</td>\n",
       "      <td>1.0000</td>\n",
       "      <td>1.000000</td>\n",
       "      <td>0.000000</td>\n",
       "      <td>0.0000</td>\n",
       "    </tr>\n",
       "    <tr>\n",
       "      <th>WorkExperience_5To10Years</th>\n",
       "      <td>1.000000</td>\n",
       "      <td>0.0000</td>\n",
       "      <td>0.000000</td>\n",
       "      <td>1.000000</td>\n",
       "      <td>0.0000</td>\n",
       "    </tr>\n",
       "    <tr>\n",
       "      <th>WorkExperience_LessThan2Years</th>\n",
       "      <td>0.000000</td>\n",
       "      <td>0.0000</td>\n",
       "      <td>0.000000</td>\n",
       "      <td>0.000000</td>\n",
       "      <td>1.0000</td>\n",
       "    </tr>\n",
       "    <tr>\n",
       "      <th>WorkExperience_MoreThan25Years</th>\n",
       "      <td>0.000000</td>\n",
       "      <td>0.0000</td>\n",
       "      <td>0.000000</td>\n",
       "      <td>0.000000</td>\n",
       "      <td>0.0000</td>\n",
       "    </tr>\n",
       "    <tr>\n",
       "      <th>Young</th>\n",
       "      <td>0.000000</td>\n",
       "      <td>0.0000</td>\n",
       "      <td>1.000000</td>\n",
       "      <td>0.000000</td>\n",
       "      <td>1.0000</td>\n",
       "    </tr>\n",
       "  </tbody>\n",
       "</table>\n",
       "<p>206 rows × 5 columns</p>\n",
       "</div>"
      ],
      "text/plain": [
       "                                          0          1           2  \\\n",
       "Unnamed: 0                         0.000000     1.0000    2.000000   \n",
       "Age                               54.000000    52.0000   28.000000   \n",
       "AppliedAmount                   8505.000000  2230.0000  530.000000   \n",
       "DebtToIncome                       0.000000     0.0000    0.000000   \n",
       "ExpectedLoss                       0.118622     0.0592    0.048764   \n",
       "...                                     ...        ...         ...   \n",
       "WorkExperience_2To5Years           0.000000     1.0000    1.000000   \n",
       "WorkExperience_5To10Years          1.000000     0.0000    0.000000   \n",
       "WorkExperience_LessThan2Years      0.000000     0.0000    0.000000   \n",
       "WorkExperience_MoreThan25Years     0.000000     0.0000    0.000000   \n",
       "Young                              0.000000     0.0000    1.000000   \n",
       "\n",
       "                                          3         4  \n",
       "Unnamed: 0                         3.000000    4.0000  \n",
       "Age                               40.000000   31.0000  \n",
       "AppliedAmount                   1380.000000  530.0000  \n",
       "DebtToIncome                       0.000000    0.0000  \n",
       "ExpectedLoss                       0.071894    0.0437  \n",
       "...                                     ...       ...  \n",
       "WorkExperience_2To5Years           0.000000    0.0000  \n",
       "WorkExperience_5To10Years          1.000000    0.0000  \n",
       "WorkExperience_LessThan2Years      0.000000    1.0000  \n",
       "WorkExperience_MoreThan25Years     0.000000    0.0000  \n",
       "Young                              0.000000    1.0000  \n",
       "\n",
       "[206 rows x 5 columns]"
      ]
     },
     "execution_count": 6,
     "metadata": {},
     "output_type": "execute_result"
    }
   ],
   "source": [
    "data.head().T"
   ]
  },
  {
   "cell_type": "code",
   "execution_count": 7,
   "metadata": {},
   "outputs": [],
   "source": [
    "#pd.DataFrame(data.describe().T).to_csv('data_describe.csv')"
   ]
  },
  {
   "cell_type": "markdown",
   "metadata": {},
   "source": [
    "<div class=\"alert alert-block alert-success\">\n",
    "<b>Inference:</b>\n",
    "We can infer that the data has more 0's (False) when it comes to defaulter compared to 1's (True).  \n",
    "Thus there are more non-defaulters than defaulters.\n",
    "</div>"
   ]
  },
  {
   "cell_type": "markdown",
   "metadata": {},
   "source": [
    "<span style=\"float:right;\"> [TOC](#TOC) </span>"
   ]
  },
  {
   "cell_type": "markdown",
   "metadata": {},
   "source": [
    "---"
   ]
  },
  {
   "cell_type": "code",
   "execution_count": 8,
   "metadata": {},
   "outputs": [],
   "source": [
    "#0 if favourable [false, default = false]\n",
    "#1 if unfavourable [true, default = True]\n",
    "fav=0\n",
    "unfav=int(not fav)"
   ]
  },
  {
   "cell_type": "code",
   "execution_count": 9,
   "metadata": {},
   "outputs": [],
   "source": [
    "a='Gender_0.0' #Male\n",
    "b='Education_5.0' #Higher Ed\n",
    "c='Young' # Age group\n",
    "d='HomeOwnershipType_1.0' #Owner \n",
    "e='HomeOwnershipType_8.0' #Mortgages\n",
    "f='EmploymentStatus_5.0' #Entrepreneur\n",
    "g=\"Tenant\" #Tenant\n",
    "\n",
    "i='LanguageCode_1' #Estonian\n",
    "j='LanguageCode_2' #English\n",
    "k=\"NrOfDependantslessthan3\" #No of dependent less than 10 years\n",
    "l='MaritalStatus_1.0' #Married\n",
    "m='MaritalStatus_3.0' #Single\n",
    "n='MaritalStatus_4.0' #Divorced\n",
    "\n",
    "p=\"WrExLess10\" #Work ex less than 10 years\n",
    "q=\"WrExLess5\" #Work ex less than 5 years\n"
   ]
  },
  {
   "cell_type": "markdown",
   "metadata": {},
   "source": [
    "<div class=\"alert alert-block alert-info\">\n",
    "<b>Remember:</b> \n",
    "\n",
    "- Statistical Parity Difference should be between -0.1 and 0.1\n",
    "- Disparate Impact should be between 0.90 and 1.10\n",
    "- Negative sign shows that: the unprivileged group is worse in favourable outcome that privileged class (as the formula used it probability of unprivileged - probability of privileged), so in case you see a positive value, you may want to reconsider your choice of privileged and unprivileged groups <b>using the next two plots</b>\n",
    "</div>\n"
   ]
  },
  {
   "cell_type": "markdown",
   "metadata": {},
   "source": [
    "### Cross-tabs for sensitive features"
   ]
  },
  {
   "cell_type": "markdown",
   "metadata": {},
   "source": [
    "### Calculation for Statistical Parity and Disparate Impact for a given protected feature\n",
    "**Declaring the protected feature (a.k.a sensitive feature) and privileged & unprivileged groups**  \n",
    "Here we are trying to find bias on basis of a sensitive feature (that explains if the customer is Married or Otherwise)"
   ]
  },
  {
   "cell_type": "code",
   "execution_count": 10,
   "metadata": {},
   "outputs": [],
   "source": [
    "choice = 'dep_4_wl10' #'MaritalStatus_1.0'\n",
    "pval = 0 #privileged : see the above heatmaps\n",
    "upval = int(not pval) #Unprivileged\n",
    "#['HomeOwnershipType_8.0', 'MaritalStatus_1.0', 'MaritalStatus_3.0', 'MaritalStatus_4.0', 'WrExLess10']"
   ]
  },
  {
   "cell_type": "code",
   "execution_count": 11,
   "metadata": {},
   "outputs": [],
   "source": [
    "label_names=['Default']\n",
    "protected_attribute_names=[choice]\n",
    "privileged_groups=[{choice: pval}]\n",
    "unprivileged_groups=[{choice: upval }]"
   ]
  },
  {
   "cell_type": "code",
   "execution_count": 12,
   "metadata": {},
   "outputs": [],
   "source": [
    "data['dep_MS4_wex10'] = data[['NrOfDependantslessthan3','MaritalStatus_4.0', 'WrExLess10']].min(axis=1)"
   ]
  },
  {
   "cell_type": "code",
   "execution_count": 13,
   "metadata": {},
   "outputs": [
    {
     "data": {
      "image/png": "[encoded data removed]",
      "text/plain": [
       "<Figure size 432x288 with 1 Axes>"
      ]
     },
     "metadata": {
      "needs_background": "light"
     },
     "output_type": "display_data"
    }
   ],
   "source": [
    "plotdf=pd.crosstab(data['dep_MS4_wex10'], data['Default'])\n",
    "ax=sns.heatmap(plotdf, annot=True, fmt='g', cbar=False)    #axes.plot(vc)\n",
    "plt.show()\n",
    "#print (type(axes))\n"
   ]
  },
  {
   "cell_type": "code",
   "execution_count": null,
   "metadata": {},
   "outputs": [],
   "source": []
  },
  {
   "cell_type": "code",
   "execution_count": 14,
   "metadata": {},
   "outputs": [],
   "source": [
    "input_dataframe = data\n",
    "INPUT_DATAFRAME = input_dataframe\n",
    "\n",
    "LABEL_NAMES = label_names\n",
    "PROTECTED_ATTRIBUTE_NAMES = protected_attribute_names\n",
    "PRIVILEGED_GROUPS = privileged_groups\n",
    "UNPRIVILEGED_GROUP = unprivileged_groups"
   ]
  },
  {
   "cell_type": "markdown",
   "metadata": {},
   "source": [
    "**Extracting the key and value from declared dictionary**"
   ]
  },
  {
   "cell_type": "code",
   "execution_count": 15,
   "metadata": {},
   "outputs": [],
   "source": [
    "protected_attribute_name = list(UNPRIVILEGED_GROUP[0].keys())[0]\n",
    "privileged_group_protected_attribute_value = PRIVILEGED_GROUPS[0][protected_attribute_name]\n",
    "unprivileged_group_protected_attribute_value = UNPRIVILEGED_GROUP[0][protected_attribute_name]"
   ]
  },
  {
   "cell_type": "markdown",
   "metadata": {},
   "source": [
    "**Missing value impuation for modelling**"
   ]
  },
  {
   "cell_type": "code",
   "execution_count": 16,
   "metadata": {},
   "outputs": [],
   "source": [
    "datatest=data\n",
    "datatest['MonthlyPayment'].fillna((datatest['MonthlyPayment'].mean()), inplace=True)\n",
    "datatest['ExpectedLoss'].fillna((datatest['ExpectedLoss'].mean()), inplace=True)\n",
    "datatest['ProbabilityOfDefault'].fillna((datatest['ProbabilityOfDefault'].mean()), inplace=True)\n",
    "datatest['DebtToIncome'].fillna((datatest['DebtToIncome'].mean()), inplace=True)\n",
    "datatest['FreeCash'].fillna((datatest['FreeCash'].mean()), inplace=True)\n",
    "datatest['LossGivenDefault'].fillna(0, inplace=True)"
   ]
  },
  {
   "cell_type": "code",
   "execution_count": 17,
   "metadata": {},
   "outputs": [],
   "source": [
    "target=['Default']"
   ]
  },
  {
   "cell_type": "code",
   "execution_count": 18,
   "metadata": {},
   "outputs": [],
   "source": [
    "choice = \"NrOfDependantslessthan3\"\n",
    "\n",
    "#\"NrOfDependantslessthan3\", 'MaritalStatus_1.0', 'MaritalStatus_3.0', 'MaritalStatus_4.0'"
   ]
  },
  {
   "cell_type": "markdown",
   "metadata": {},
   "source": [
    "----"
   ]
  },
  {
   "cell_type": "markdown",
   "metadata": {},
   "source": [
    "<a id=\"R\"> </a> \n",
    "\n",
    "<div class=\"alert alert-block alert-warning\">\n",
    "<span style=\"font-family:Futura Next; font-size:2em;\">Reject option classifier</span>\n",
    "</div>"
   ]
  },
  {
   "cell_type": "markdown",
   "metadata": {},
   "source": [
    "Let ${Y} ∈ ({Y^+}, {Y^-})$ be the actual labels with ${Y^+}$ being favourable class and ${Y^-}$ being unfavourable class belonging to dataset {${X_i}, {Y_i}$} with $N$ data points. Lets ${S}$ be protected features with ${S_d}$ be disadvantegous group / unprivileged group and ${S_a}$ being advantegous group / privileged group. Let $\\mathbf{w}$ be the base classifier.\n",
    "\n",
    "here we would like to minimize $\\mathbb{P}({Y}={Y^+} \\mid {S}={S_a}) - \\mathbb{P}({Y}={Y^+} \\mid {S}={S_d})$\n",
    "\n",
    "Thus the posterior probability of any classifier can be given as $\\mathbb{P}({Y}|{X})$. Here if $\\mathbb{P}({Y^+}|{X})$ is higher (either close to 1 or 0) then the label assigned would be certain and hard (or vice versa - in case of probability near 0.5)\n",
    "\n",
    "In such a scenario, [Reject Option Classifier](https://mine.kaust.edu.sa/Documents/papers/ICDM_2012.pdf) (ROC) is implemented for the labels with probability falling into critical region defined as\n",
    "\n",
    "$max [\\mathbb{P}({Y^+}\\mid{S}), 1-\\mathbb{P}({Y^+}\\mid{S})] \\leq {\\theta}$\n",
    "\n",
    "${\\text{subject to}}$ 0.5<$\\theta$<1 : called critical region\n",
    "\n",
    "The [algorithm](https://github.com/cosmicBboy/themis-ml/blob/master/themis_ml/postprocessing/reject_option_classification.py), for all probabilities outside critical region the label would be unchanged but for probability falling into criticsal region the label assignment would be conducted as per the below rule:\n",
    "\n",
    "if the ${r_i} ∈ {S_d}$ then label would be ${Y^+}$ and if ${r_i} ∈ {S_a}$ then label would be ${Y^-}$, , here ${r_i}$ are predicted probabilities.\n",
    "\n",
    "This concept would well work for multiple (ensemble) classifier $\\mathbf{w_k (w_1, w_2,..w_k)}$ with posterior probability defined as $\\mathbb{P}({Y}, \\mathbf{w_k}|{X})$."
   ]
  },
  {
   "cell_type": "code",
   "execution_count": 19,
   "metadata": {},
   "outputs": [
    {
     "data": {
      "text/plain": [
       "Index(['Unnamed: 0', 'Age', 'AppliedAmount', 'DebtToIncome', 'ExpectedLoss',\n",
       "       'LiabilitiesTotal', 'FreeCash', 'IncomeFromChildSupport',\n",
       "       'IncomeFromFamilyAllowance', 'IncomeFromLeavePay',\n",
       "       ...\n",
       "       'VerificationType_3.0', 'VerificationType_4.0',\n",
       "       'WorkExperience_10To15Years', 'WorkExperience_15To25Years',\n",
       "       'WorkExperience_2To5Years', 'WorkExperience_5To10Years',\n",
       "       'WorkExperience_LessThan2Years', 'WorkExperience_MoreThan25Years',\n",
       "       'Young', 'dep_MS4_wex10'],\n",
       "      dtype='object', length=207)"
      ]
     },
     "execution_count": 19,
     "metadata": {},
     "output_type": "execute_result"
    }
   ],
   "source": [
    "datatest.columns"
   ]
  },
  {
   "cell_type": "code",
   "execution_count": 20,
   "metadata": {},
   "outputs": [
    {
     "name": "stdout",
     "output_type": "stream",
     "text": [
      "Accuracy of the full model: 0.770974317162658\n"
     ]
    }
   ],
   "source": [
    "dataacf = datatest[['Default','Age', 'AppliedAmount', 'ExpectedLoss', 'LiabilitiesTotal', 'IncomeTotal', \n",
    "                    'Interest', 'LoanDuration', 'MonthlyPayment',\n",
    "\"NrOfDependantslessthan3\", 'MaritalStatus_1.0', 'MaritalStatus_3.0', 'MaritalStatus_4.0', 'dep_MS4_wex10']]\n",
    "\n",
    "\n",
    "y=dataacf['Default']\n",
    "x=dataacf.drop(columns=['Default'])\n",
    "\n",
    "\n",
    "X_train, X_test, y_train, y_test = train_test_split(x, y, test_size=0.20, random_state=6666)\n",
    "clf_full = LogisticRegression(random_state=0, solver='liblinear',\n",
    "                              multi_class='ovr').fit(X_train, y_train)\n",
    "y_pred=clf_full.predict(X_test)\n",
    "y_pred_prob=clf_full.predict_proba(X_test)[:,0]\n",
    "print(\"Accuracy of the full model:\", clf_full.score(X_test, y_test))"
   ]
  },
  {
   "cell_type": "markdown",
   "metadata": {},
   "source": [
    "- pval = 0, upval = 1\n",
    "- fav = 0, high prob\n",
    "- unfav = 1, low prob"
   ]
  },
  {
   "cell_type": "code",
   "execution_count": 21,
   "metadata": {},
   "outputs": [],
   "source": [
    "def Rjopt(DECISION_THRESHOLD, theta, choice, pred_prob, X_test, pval = 0, demote = True):\n",
    "    upval = int(not pval) #Unprivileged\n",
    "    pred_prob = y_pred_prob.copy() #probabilities of getting output as 0 or favourable (high probability high case of 0 or fav)\n",
    "    s = X_test[choice]\n",
    "    \n",
    "    flip_candidates = np.ones_like(pred_prob).astype(bool) if demote else s == upval #unprivileged group\n",
    "    np.sum(flip_candidates)\n",
    "    \n",
    "    under_theta_index = np.where(\n",
    "            (np.abs(pred_prob - 0.5) < theta) & flip_candidates) \n",
    "    #finding unprivileged & unfavourable within the threshold limit as defined by theta\n",
    "    \n",
    "    pred_prob[under_theta_index] = 1 - pred_prob[under_theta_index] #flipping the probabilities\n",
    "    \n",
    "    rocdata = pred_prob.copy()\n",
    "    rocbin=np.where(rocdata > DECISION_THRESHOLD, 0, 1)\n",
    "    \n",
    "    fpr, tpr, _ = roc_curve(y_test, rocdata, pos_label=0)\n",
    "    print('ROC:', auc(fpr, tpr))\n",
    "\n",
    "\n",
    "    fpr, tpr, _ = roc_curve(y_test, y_pred_prob, pos_label=0)\n",
    "    print('base:', auc(fpr, tpr))\n",
    "    \n",
    "    \n",
    "    \n",
    "    return rocbin, pred_prob"
   ]
  },
  {
   "cell_type": "markdown",
   "metadata": {},
   "source": [
    "'MaritalStatus_3.0' #Single\n",
    "D_Boundary = 0.5\n",
    "theta = 0.1\n",
    "penalise = False\n",
    "pval = 0\n",
    "upval = int(not pval) #Unprivileged\n",
    "\n",
    "------------\n",
    "\n",
    "'MaritalStatus_1.0' #Married\n",
    "D_Boundary = 0.5\n",
    "theta = 0.01\n",
    "penalise = True\n",
    "pval = 0\n",
    "upval = int(not pval) #Unprivileged\n",
    "\n",
    "\n",
    "-------\n",
    "'MaritalStatus_4.0' #Divorced\n",
    "\n",
    "D_Boundary = 0.5\n",
    "theta = 0.1\n",
    "penalise = True\n",
    "pval = 1\n",
    "upval = int(not pval) #Unprivileged\n",
    "\n",
    "--------------\n",
    "'NrOfDependantslessthan3'\n",
    "\n",
    "D_Boundary = 0.5\n",
    "theta = 0.1\n",
    "penalise = False\n",
    "pval = 1\n",
    "upval = int(not pval) #Unprivileged\n",
    "\n",
    "------------------\n",
    "dep_MS4_wex10\n",
    "D_Boundary = 0.5\n",
    "theta = 0.1\n",
    "penalise = True\n",
    "pval = 1\n",
    "upval = int(not pval) #Unprivileged"
   ]
  },
  {
   "cell_type": "markdown",
   "metadata": {},
   "source": [
    "'MaritalStatus_1.0' #Married\n",
    "'MaritalStatus_3.0' #Single\n",
    "'MaritalStatus_4.0' #Divorced"
   ]
  },
  {
   "cell_type": "code",
   "execution_count": 22,
   "metadata": {},
   "outputs": [],
   "source": [
    "#choice = 'dep_MS4_wex10' \n",
    "s= choice = 'dep_MS4_wex10' #'MaritalStatus_4.0' #'NrOfDependantslessthan3' \n",
    "#MaritalStatus_4.0' #'dep_MS4_wex10' # 'NrOfDependantslessthan3' #Single 'MaritalStatus_3.0', dep_MS4_wex10"
   ]
  },
  {
   "cell_type": "code",
   "execution_count": 23,
   "metadata": {},
   "outputs": [
    {
     "data": {
      "image/png": "[encoded data removed]",
      "text/plain": [
       "<Figure size 432x288 with 1 Axes>"
      ]
     },
     "metadata": {
      "needs_background": "light"
     },
     "output_type": "display_data"
    }
   ],
   "source": [
    "plotdf=pd.crosstab(data[choice], data['Default'])\n",
    "ax=sns.heatmap(plotdf, annot=True, fmt='g', cbar=False)    #axes.plot(vc)\n",
    "plt.show()\n",
    "#print (type(axes))"
   ]
  },
  {
   "cell_type": "code",
   "execution_count": 24,
   "metadata": {},
   "outputs": [],
   "source": [
    "D_Boundary = 0.5\n",
    "theta = 0.1\n",
    "penalise = True\n",
    "pval = 1\n",
    "upval = int(not pval) #Unprivileged"
   ]
  },
  {
   "cell_type": "code",
   "execution_count": 25,
   "metadata": {},
   "outputs": [],
   "source": [
    "pred_prob = y_pred_prob.copy() #probabilities of getting output as 0 or favourable (high probability high case of 0 or fav)"
   ]
  },
  {
   "cell_type": "code",
   "execution_count": 26,
   "metadata": {},
   "outputs": [
    {
     "data": {
      "text/html": [
       "<div>\n",
       "<style scoped>\n",
       "    .dataframe tbody tr th:only-of-type {\n",
       "        vertical-align: middle;\n",
       "    }\n",
       "\n",
       "    .dataframe tbody tr th {\n",
       "        vertical-align: top;\n",
       "    }\n",
       "\n",
       "    .dataframe thead th {\n",
       "        text-align: right;\n",
       "    }\n",
       "</style>\n",
       "<table border=\"1\" class=\"dataframe\">\n",
       "  <thead>\n",
       "    <tr style=\"text-align: right;\">\n",
       "      <th></th>\n",
       "      <th>pred_prob</th>\n",
       "      <th>y_pred_original</th>\n",
       "      <th>y_pred</th>\n",
       "      <th>y_test</th>\n",
       "      <th>S</th>\n",
       "      <th>id</th>\n",
       "    </tr>\n",
       "  </thead>\n",
       "  <tbody>\n",
       "    <tr>\n",
       "      <th>0</th>\n",
       "      <td>0.851482</td>\n",
       "      <td>0.851482</td>\n",
       "      <td>0.0</td>\n",
       "      <td>1.0</td>\n",
       "      <td>1.0</td>\n",
       "      <td>0</td>\n",
       "    </tr>\n",
       "    <tr>\n",
       "      <th>1</th>\n",
       "      <td>0.828825</td>\n",
       "      <td>0.828825</td>\n",
       "      <td>0.0</td>\n",
       "      <td>0.0</td>\n",
       "      <td>1.0</td>\n",
       "      <td>1</td>\n",
       "    </tr>\n",
       "    <tr>\n",
       "      <th>2</th>\n",
       "      <td>0.831863</td>\n",
       "      <td>0.831863</td>\n",
       "      <td>0.0</td>\n",
       "      <td>0.0</td>\n",
       "      <td>1.0</td>\n",
       "      <td>2</td>\n",
       "    </tr>\n",
       "    <tr>\n",
       "      <th>3</th>\n",
       "      <td>0.665093</td>\n",
       "      <td>0.665093</td>\n",
       "      <td>0.0</td>\n",
       "      <td>0.0</td>\n",
       "      <td>0.0</td>\n",
       "      <td>3</td>\n",
       "    </tr>\n",
       "    <tr>\n",
       "      <th>4</th>\n",
       "      <td>0.767699</td>\n",
       "      <td>0.767699</td>\n",
       "      <td>0.0</td>\n",
       "      <td>1.0</td>\n",
       "      <td>1.0</td>\n",
       "      <td>4</td>\n",
       "    </tr>\n",
       "  </tbody>\n",
       "</table>\n",
       "</div>"
      ],
      "text/plain": [
       "   pred_prob  y_pred_original  y_pred  y_test    S  id\n",
       "0   0.851482         0.851482     0.0     1.0  1.0   0\n",
       "1   0.828825         0.828825     0.0     0.0  1.0   1\n",
       "2   0.831863         0.831863     0.0     0.0  1.0   2\n",
       "3   0.665093         0.665093     0.0     0.0  0.0   3\n",
       "4   0.767699         0.767699     0.0     1.0  1.0   4"
      ]
     },
     "execution_count": 26,
     "metadata": {},
     "output_type": "execute_result"
    }
   ],
   "source": [
    "roc=pd.DataFrame()\n",
    "roc_df = pd.DataFrame(pred_prob, columns=['pred_prob'])\n",
    "roc_df['y_pred_original'] = y_pred_prob\n",
    "roc_df['y_pred'] = y_pred\n",
    "roc_df['y_test'] = y_test.reset_index(drop=True)\n",
    "roc_df['S'] = X_test[choice].reset_index(drop=True)\n",
    "roc_df['id']=roc_df.index\n",
    "roc_df.head()"
   ]
  },
  {
   "cell_type": "code",
   "execution_count": 27,
   "metadata": {},
   "outputs": [],
   "source": [
    "if penalise==True:\n",
    "    RO_df = roc_df[(np.abs(pred_prob - 0.5) < theta)]\n",
    "else:\n",
    "    RO_df = roc_df[(np.abs(pred_prob - 0.5) < theta) & (y_pred==fav)]\n"
   ]
  },
  {
   "cell_type": "code",
   "execution_count": 28,
   "metadata": {},
   "outputs": [
    {
     "data": {
      "text/html": [
       "<div>\n",
       "<style scoped>\n",
       "    .dataframe tbody tr th:only-of-type {\n",
       "        vertical-align: middle;\n",
       "    }\n",
       "\n",
       "    .dataframe tbody tr th {\n",
       "        vertical-align: top;\n",
       "    }\n",
       "\n",
       "    .dataframe thead th {\n",
       "        text-align: right;\n",
       "    }\n",
       "</style>\n",
       "<table border=\"1\" class=\"dataframe\">\n",
       "  <thead>\n",
       "    <tr style=\"text-align: right;\">\n",
       "      <th></th>\n",
       "      <th>pred_prob</th>\n",
       "      <th>y_pred_original</th>\n",
       "      <th>y_pred</th>\n",
       "      <th>y_test</th>\n",
       "      <th>S</th>\n",
       "      <th>id</th>\n",
       "    </tr>\n",
       "  </thead>\n",
       "  <tbody>\n",
       "    <tr>\n",
       "      <th>6</th>\n",
       "      <td>0.499860</td>\n",
       "      <td>0.499860</td>\n",
       "      <td>1.0</td>\n",
       "      <td>0.0</td>\n",
       "      <td>0.0</td>\n",
       "      <td>6</td>\n",
       "    </tr>\n",
       "    <tr>\n",
       "      <th>7</th>\n",
       "      <td>0.507807</td>\n",
       "      <td>0.507807</td>\n",
       "      <td>0.0</td>\n",
       "      <td>0.0</td>\n",
       "      <td>0.0</td>\n",
       "      <td>7</td>\n",
       "    </tr>\n",
       "    <tr>\n",
       "      <th>10</th>\n",
       "      <td>0.476438</td>\n",
       "      <td>0.476438</td>\n",
       "      <td>1.0</td>\n",
       "      <td>1.0</td>\n",
       "      <td>0.0</td>\n",
       "      <td>10</td>\n",
       "    </tr>\n",
       "    <tr>\n",
       "      <th>11</th>\n",
       "      <td>0.596510</td>\n",
       "      <td>0.596510</td>\n",
       "      <td>0.0</td>\n",
       "      <td>1.0</td>\n",
       "      <td>0.0</td>\n",
       "      <td>11</td>\n",
       "    </tr>\n",
       "    <tr>\n",
       "      <th>15</th>\n",
       "      <td>0.595882</td>\n",
       "      <td>0.595882</td>\n",
       "      <td>0.0</td>\n",
       "      <td>0.0</td>\n",
       "      <td>0.0</td>\n",
       "      <td>15</td>\n",
       "    </tr>\n",
       "  </tbody>\n",
       "</table>\n",
       "</div>"
      ],
      "text/plain": [
       "    pred_prob  y_pred_original  y_pred  y_test    S  id\n",
       "6    0.499860         0.499860     1.0     0.0  0.0   6\n",
       "7    0.507807         0.507807     0.0     0.0  0.0   7\n",
       "10   0.476438         0.476438     1.0     1.0  0.0  10\n",
       "11   0.596510         0.596510     0.0     1.0  0.0  11\n",
       "15   0.595882         0.595882     0.0     0.0  0.0  15"
      ]
     },
     "execution_count": 28,
     "metadata": {},
     "output_type": "execute_result"
    }
   ],
   "source": [
    "RO_df.head()"
   ]
  },
  {
   "cell_type": "code",
   "execution_count": 29,
   "metadata": {},
   "outputs": [],
   "source": [
    "pval_fav = RO_df[(RO_df['S']==pval) & (RO_df['y_pred']==fav)]\n",
    "pval_ufav = RO_df[(RO_df['S']==pval) & (RO_df['y_pred']==unfav)]\n",
    "upval_fav = RO_df[(RO_df['S']==upval) & (RO_df['y_pred']==fav)]\n",
    "upval_ufav = RO_df[(RO_df['S']==upval) & (RO_df['y_pred']==unfav)]"
   ]
  },
  {
   "cell_type": "code",
   "execution_count": 30,
   "metadata": {},
   "outputs": [],
   "source": [
    "pval_fav['pred_prob'] = 1- pval_fav['pred_prob']\n",
    "upval_ufav['pred_prob'] = 1-upval_ufav['pred_prob']"
   ]
  },
  {
   "cell_type": "code",
   "execution_count": 31,
   "metadata": {},
   "outputs": [],
   "source": [
    "RO_changed = pd.concat([pval_fav, pval_ufav, upval_fav, upval_ufav])"
   ]
  },
  {
   "cell_type": "code",
   "execution_count": 32,
   "metadata": {},
   "outputs": [
    {
     "data": {
      "text/html": [
       "<div>\n",
       "<style scoped>\n",
       "    .dataframe tbody tr th:only-of-type {\n",
       "        vertical-align: middle;\n",
       "    }\n",
       "\n",
       "    .dataframe tbody tr th {\n",
       "        vertical-align: top;\n",
       "    }\n",
       "\n",
       "    .dataframe thead th {\n",
       "        text-align: right;\n",
       "    }\n",
       "</style>\n",
       "<table border=\"1\" class=\"dataframe\">\n",
       "  <thead>\n",
       "    <tr style=\"text-align: right;\">\n",
       "      <th></th>\n",
       "      <th>pred_prob</th>\n",
       "      <th>y_pred_original</th>\n",
       "      <th>y_pred</th>\n",
       "      <th>y_test</th>\n",
       "      <th>S</th>\n",
       "      <th>id</th>\n",
       "    </tr>\n",
       "  </thead>\n",
       "  <tbody>\n",
       "    <tr>\n",
       "      <th>53</th>\n",
       "      <td>0.480051</td>\n",
       "      <td>0.480051</td>\n",
       "      <td>1.0</td>\n",
       "      <td>0.0</td>\n",
       "      <td>1.0</td>\n",
       "      <td>53</td>\n",
       "    </tr>\n",
       "    <tr>\n",
       "      <th>5906</th>\n",
       "      <td>0.460625</td>\n",
       "      <td>0.460625</td>\n",
       "      <td>1.0</td>\n",
       "      <td>0.0</td>\n",
       "      <td>1.0</td>\n",
       "      <td>5906</td>\n",
       "    </tr>\n",
       "    <tr>\n",
       "      <th>7</th>\n",
       "      <td>0.507807</td>\n",
       "      <td>0.507807</td>\n",
       "      <td>0.0</td>\n",
       "      <td>0.0</td>\n",
       "      <td>0.0</td>\n",
       "      <td>7</td>\n",
       "    </tr>\n",
       "    <tr>\n",
       "      <th>11</th>\n",
       "      <td>0.596510</td>\n",
       "      <td>0.596510</td>\n",
       "      <td>0.0</td>\n",
       "      <td>1.0</td>\n",
       "      <td>0.0</td>\n",
       "      <td>11</td>\n",
       "    </tr>\n",
       "    <tr>\n",
       "      <th>15</th>\n",
       "      <td>0.595882</td>\n",
       "      <td>0.595882</td>\n",
       "      <td>0.0</td>\n",
       "      <td>0.0</td>\n",
       "      <td>0.0</td>\n",
       "      <td>15</td>\n",
       "    </tr>\n",
       "  </tbody>\n",
       "</table>\n",
       "</div>"
      ],
      "text/plain": [
       "      pred_prob  y_pred_original  y_pred  y_test    S    id\n",
       "53     0.480051         0.480051     1.0     0.0  1.0    53\n",
       "5906   0.460625         0.460625     1.0     0.0  1.0  5906\n",
       "7      0.507807         0.507807     0.0     0.0  0.0     7\n",
       "11     0.596510         0.596510     0.0     1.0  0.0    11\n",
       "15     0.595882         0.595882     0.0     0.0  0.0    15"
      ]
     },
     "execution_count": 32,
     "metadata": {},
     "output_type": "execute_result"
    }
   ],
   "source": [
    "RO_changed.head()"
   ]
  },
  {
   "cell_type": "code",
   "execution_count": 33,
   "metadata": {},
   "outputs": [],
   "source": [
    "df = roc_df"
   ]
  },
  {
   "cell_type": "code",
   "execution_count": 34,
   "metadata": {},
   "outputs": [],
   "source": [
    "df.loc[list(RO_changed.index), 'pred_prob']=RO_changed['pred_prob']"
   ]
  },
  {
   "cell_type": "code",
   "execution_count": 35,
   "metadata": {},
   "outputs": [
    {
     "data": {
      "image/png": "[encoded data removed]",
      "text/plain": [
       "<Figure size 720x432 with 1 Axes>"
      ]
     },
     "metadata": {
      "needs_background": "light"
     },
     "output_type": "display_data"
    }
   ],
   "source": [
    "plt.figure(figsize=(10,6))\n",
    "p1=sns.kdeplot(df['pred_prob'], shade=True, color=\"r\")\n",
    "p1=sns.kdeplot(df['y_pred_original'], shade=True, color=\"b\")\n",
    "plt.title('Density plot before and after ROC for {}'.format(choice), fontsize=16)\n",
    "plt.show()"
   ]
  },
  {
   "cell_type": "code",
   "execution_count": 36,
   "metadata": {},
   "outputs": [],
   "source": [
    "df['rocdata']=df['pred_prob'].copy()\n",
    "df['rocbin']=np.where(df['rocdata'] > 0.5, 0, 1)"
   ]
  },
  {
   "cell_type": "code",
   "execution_count": 37,
   "metadata": {},
   "outputs": [
    {
     "name": "stdout",
     "output_type": "stream",
     "text": [
      "dep_MS4_wex10\n",
      "Original: 0.6865328981869541\n",
      "After ROC: 0.6855226155029621\n",
      "ratio 0.9985284278631658\n",
      "\n"
     ]
    }
   ],
   "source": [
    "from sklearn.metrics import roc_curve, auc\n",
    "print (choice)\n",
    "fpr, tpr, _ = roc_curve(df['y_test'], df['y_pred_original'].values, pos_label=0)\n",
    "ROC = auc(fpr, tpr)\n",
    "print('Original:', ROC)\n",
    "\n",
    "\n",
    "fpr, tpr, _ = roc_curve(df['y_test'], df['pred_prob'].values, pos_label=0)\n",
    "base = auc(fpr, tpr)\n",
    "print('After ROC:', base)\n",
    "\n",
    "print('ratio', base/ROC)\n",
    "\n",
    "print ()\n"
   ]
  },
  {
   "cell_type": "code",
   "execution_count": 38,
   "metadata": {},
   "outputs": [],
   "source": [
    "tn_up, fp_up, fn_up, tp_up = confusion_matrix(df['y_test'][df['S']==upval], df['rocbin'][df['S']==upval]).ravel()\n",
    "tn_p, fp_p, fn_p, tp_p = confusion_matrix(df['y_test'][df['S']==pval], df['rocbin'][df['S']==pval]).ravel()\n",
    "ROC = acfmetrics(tn_up, fp_up, fn_up, tp_up, tn_p, fp_p, fn_p, tp_p)\n",
    "\n",
    "tn_up, fp_up, fn_up, tp_up = confusion_matrix(df['y_test'][df['S']==upval], df['y_pred'][df['S']==upval]).ravel()\n",
    "tn_p, fp_p, fn_p, tp_p = confusion_matrix(df['y_test'][df['S']==pval], df['y_pred'][df['S']==pval]).ravel()\n",
    "Fullmodel = acfmetrics(tn_up, fp_up, fn_up, tp_up, tn_p, fp_p, fn_p, tp_p)"
   ]
  },
  {
   "cell_type": "code",
   "execution_count": null,
   "metadata": {},
   "outputs": [],
   "source": []
  },
  {
   "cell_type": "code",
   "execution_count": 39,
   "metadata": {},
   "outputs": [],
   "source": [
    "headers=[\"Eq Opportunity\", \"Eq Of Odds\", \"Precision\", \n",
    "         \"Demo Parity\", \"Avg Odds Diff\", \"Pred equality\", \"Pred Parity\", \"TPR\", \n",
    "         'cost (in Mn)']\n",
    "ROC={'Metrics':headers, \n",
    "             'Full Model':list(Fullmodel), 'ROC Fair Model':list(ROC)}\n",
    "ROC_table=pd.DataFrame.from_dict(ROC)"
   ]
  },
  {
   "cell_type": "code",
   "execution_count": 40,
   "metadata": {},
   "outputs": [
    {
     "data": {
      "image/png": "[encoded data removed]",
      "text/plain": [
       "<Figure size 720x360 with 1 Axes>"
      ]
     },
     "metadata": {
      "needs_background": "light"
     },
     "output_type": "display_data"
    }
   ],
   "source": [
    "ax = ROC_table.plot.bar(x='Metrics', rot=90, width = 0.7, color=['red', 'black'], figsize=(10,5), fontsize=12)\n",
    "plt.suptitle('Absolute difference: {}'.format(choice),  \n",
    "             fontsize=15, y=1)\n",
    "\n",
    "patches, labels = ax.get_legend_handles_labels()\n",
    "ax.legend(patches, labels, loc='upper right', fontsize=12)\n",
    "\n",
    "ax.set_xlabel('Fairness Metrics', fontsize=15)\n",
    "plt.show()"
   ]
  },
  {
   "cell_type": "raw",
   "metadata": {},
   "source": [
    "ax = ROC_table.plot.bar(x='Metrics', rot=90, width = 0.7, color=['red', 'black'], figsize=(10,5), fontsize=12)\n",
    "plt.suptitle('Absolute difference in  fairness metrics (and total cost): {}'.format(choice),  \n",
    "             fontsize=15, y=1)\n",
    "\n",
    "patches, labels = ax.get_legend_handles_labels()\n",
    "ax.legend(patches, labels, loc='upper right', fontsize=12)\n",
    "\n",
    "ax.set_xlabel('Fairness Metrics', fontsize=15)\n",
    "plt.show()"
   ]
  },
  {
   "cell_type": "raw",
   "metadata": {},
   "source": [
    "pval_fav['pred_prob'] = pval_fav['pred_prob'] - theta\n",
    "upval_ufav['pred_prob'] = upval_ufav['pred_prob'] + theta"
   ]
  },
  {
   "cell_type": "code",
   "execution_count": null,
   "metadata": {},
   "outputs": [],
   "source": []
  },
  {
   "cell_type": "code",
   "execution_count": 41,
   "metadata": {},
   "outputs": [],
   "source": [
    "def thetha(y_test, y_pred_prob, X_test, protected_label, pval = 1, DECISION_THRESHOLD = 0.5, demote = False):\n",
    "    upval = int(not pval) #Unprivileged\n",
    "    \n",
    "    pred_prob = y_pred_prob.copy() #probabilities of getting output as 0 or favourable (high probability high case of 0 or fav)\n",
    "    s = X_test[protected_label]\n",
    "    \n",
    "    flip_candidates = np.ones_like(pred_prob).astype(bool) \\\n",
    "            if demote else s == upval #unprivileged group\n",
    "    \n",
    "    thetha = np.arange(0.01, 0.99, 0.01)\n",
    "    \n",
    "    ROC=[]\n",
    "    cnt = 0\n",
    "    for t1 in thetha:\n",
    "        under_theta_index = np.where(\n",
    "            (np.abs(pred_prob - 0.5) < t1) & flip_candidates & (pred_prob<0.5))\n",
    "        \n",
    "        pred_prob[under_theta_index] = 1-pred_prob[under_theta_index] #flipping the probabilities\n",
    "        \n",
    "        rocdata=pred_prob.copy()\n",
    "        rocbin=np.where(rocdata > 0.5, 0, 1)\n",
    "        \n",
    "        tn_up, fp_up, fn_up, tp_up = confusion_matrix(y_test[s==upval], rocbin[s==upval]).ravel()\n",
    "        tn_p, fp_p, fn_p, tp_p = confusion_matrix(y_test[s==pval], rocbin[s==pval]).ravel()\n",
    "        results = acfmetrics(tn_up, fp_up, fn_up, tp_up, tn_p, fp_p, fn_p, tp_p)\n",
    "        \n",
    "        #print(results)\n",
    "        \n",
    "        ROC.append(results)\n",
    "        \n",
    "    \n",
    "    return ROC"
   ]
  },
  {
   "cell_type": "code",
   "execution_count": 42,
   "metadata": {},
   "outputs": [],
   "source": [
    "jj=thetha(df['y_test'].values, df['y_pred_original'].values, X_test, choice, pval = pval)\n"
   ]
  },
  {
   "cell_type": "code",
   "execution_count": 43,
   "metadata": {},
   "outputs": [],
   "source": [
    "thetha = np.arange(0.01, 0.99, 0.01)\n",
    "df_ROC = pd.DataFrame(jj, columns=[\"Eq of Opportunity\", \"Eq Of Odds\", \"Precision\", \n",
    "         \"Demographic Parity\", \"Avg Odds Diff\", \"Predictive equality\", \"Predictive Parity\", \"True Positive Rate\", \n",
    "         'cost in Mn'])\n",
    "df_ROC['thetha'] = thetha\n",
    "#df_ROC.head(8).T"
   ]
  },
  {
   "cell_type": "code",
   "execution_count": 44,
   "metadata": {},
   "outputs": [
    {
     "data": {
      "image/png": "[encoded data removed]",
      "text/plain": [
       "<Figure size 1440x720 with 2 Axes>"
      ]
     },
     "metadata": {
      "needs_background": "light"
     },
     "output_type": "display_data"
    }
   ],
   "source": [
    "\n",
    "fig, ax1 = plt.subplots(figsize=(20,10))\n",
    "fig.suptitle('ROC optimization for various value of theta {}'.format(choice), fontsize=20, y=1.05)\n",
    "\n",
    "\n",
    "ax1.plot( 'thetha', 'Eq of Opportunity', data=df_ROC, marker='', color='blue', linewidth=2)\n",
    "ax1.plot( 'thetha', 'Eq Of Odds', data=df_ROC, marker='', color='red', linewidth=2)\n",
    "ax1.plot( 'thetha', 'Demographic Parity', data=df_ROC, marker='', color='yellow', linewidth=2)\n",
    "ax1.plot( 'thetha', 'Avg Odds Diff', data=df_ROC, marker='', color='orange', linewidth=2)\n",
    "ax1.plot( 'thetha', 'Predictive equality', data=df_ROC, marker='', color='purple', linewidth=2)\n",
    "\n",
    "ax2 = ax1.twinx() \n",
    "\n",
    "ax2.plot( 'thetha', 'cost in Mn', data=df_ROC, marker='o', color='black', linewidth=2)\n",
    "\n",
    "patches, labels = ax1.get_legend_handles_labels()\n",
    "ax1.legend(patches, labels, loc='upper left', fontsize=10)\n",
    "\n",
    "patches, labels = ax2.get_legend_handles_labels()\n",
    "ax2.legend(patches, labels, loc='upper left', fontsize=14)\n",
    "\n",
    "ax1.set_ylabel('difference in fairness metrics', fontsize=15)\n",
    "ax2.set_ylabel('Total cost (in 100k)', fontsize=15)\n",
    "\n",
    "fig.tight_layout()  # otherwise the right y-label is slightly clipped\n",
    "plt.legend()\n",
    "\n",
    "ax1.set_xlabel('theta', fontsize=15)\n",
    "plt.show()"
   ]
  },
  {
   "cell_type": "markdown",
   "metadata": {},
   "source": [
    "<div class=\"alert alert-block alert-success\">\n",
    "<b>Inference:</b>\n",
    "The implementation of ROC on sensitive feature Single (MaritialStatus\\_3.0) shows that the fairness metrics like equality of opportunity, equalised odds, demographic parity, average odds difference, predictive equality, TPR shows very little discrimination. The cost seems to have gone don by new notches too. The optimization graphs further shows that optimal value of theta that can be considered. Its vivid that the optimal theta to minimize all fairness metrics and cost would be between 0.1 and 0.2.\n",
    "    The first plot on top shows the scatter plot for actual predicted probabilities and predicted probabilities after ROC calibration. The second plot highlights the sensitive features and it can be that only unprivileged class has got affected. The third plot shows distribution for  actual predicted probabilities and predicted probabilities after ROC calibration. The first below at bottom show change different fairness metrics (and total cost) before and after  ROC calibration while the last plot shows the fairness metrics and total cost for various values of theta\n",
    "</div>"
   ]
  }
 ],
 "metadata": {
  "kernelspec": {
   "display_name": "Python 3",
   "language": "python",
   "name": "python3"
  },
  "language_info": {
   "codemirror_mode": {
    "name": "ipython",
    "version": 3
   },
   "file_extension": ".py",
   "mimetype": "text/x-python",
   "name": "python",
   "nbconvert_exporter": "python",
   "pygments_lexer": "ipython3",
   "version": "3.8.3"
  }
 },
 "nbformat": 4,
 "nbformat_minor": 2
}
