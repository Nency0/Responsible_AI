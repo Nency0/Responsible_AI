{
 "cells": [
  {
   "cell_type": "code",
   "execution_count": 1,
   "id": "b674ee29",
   "metadata": {},
   "outputs": [],
   "source": [
    "import logging\n",
    "import numpy\n",
    "import numpy as np\n",
    "import pandas as pd\n",
    "from pandas.api.types import CategoricalDtype\n",
    "from math import *\n",
    "from datetime import datetime\n",
    "from operator import itemgetter\n",
    "from zipfile import ZipFile\n",
    "from io import BytesIO\n",
    "import pickle\n",
    "from urllib.request import urlopen\n",
    "\n",
    "from IPython.display import Image\n",
    "import matplotlib.pyplot as plt\n",
    "import seaborn as sns\n",
    "import plotly.express as px\n",
    "\n",
    "from numpy import inf\n",
    "from scipy.stats import kurtosis, skew\n",
    "\n",
    "from sklearn.metrics import accuracy_score\n",
    "from sklearn.model_selection import train_test_split\n",
    "from sklearn import ensemble\n",
    "from sklearn.metrics import confusion_matrix\n",
    "from sklearn.metrics import classification_report\n",
    "from sklearn.metrics import roc_auc_score\n",
    "from sklearn import metrics\n",
    "from sklearn.linear_model import LogisticRegression\n",
    "from sklearn.linear_model import LinearRegression\n",
    "from sklearn.metrics import average_precision_score\n",
    "from sklearn.metrics import mean_squared_error\n",
    "\n",
    "import warnings\n",
    "warnings.filterwarnings('ignore')\n",
    "\n",
    "from functions import *\n",
    "from fair_func import *\n",
    "from full_acf_cuf_classification_final import *"
   ]
  },
  {
   "cell_type": "code",
   "execution_count": 2,
   "id": "bbc5f0a9",
   "metadata": {},
   "outputs": [],
   "source": [
    "data = pd.read_csv('RAIdata.csv')"
   ]
  },
  {
   "cell_type": "code",
   "execution_count": 3,
   "id": "a5ec7ba1",
   "metadata": {},
   "outputs": [],
   "source": [
    "data.drop(columns=\"Unnamed: 0\", inplace=True)"
   ]
  },
  {
   "cell_type": "code",
   "execution_count": 4,
   "id": "18955f4a",
   "metadata": {},
   "outputs": [
    {
     "data": {
      "text/html": [
       "<div>\n",
       "<style scoped>\n",
       "    .dataframe tbody tr th:only-of-type {\n",
       "        vertical-align: middle;\n",
       "    }\n",
       "\n",
       "    .dataframe tbody tr th {\n",
       "        vertical-align: top;\n",
       "    }\n",
       "\n",
       "    .dataframe thead th {\n",
       "        text-align: right;\n",
       "    }\n",
       "</style>\n",
       "<table border=\"1\" class=\"dataframe\">\n",
       "  <thead>\n",
       "    <tr style=\"text-align: right;\">\n",
       "      <th></th>\n",
       "      <th>Age</th>\n",
       "      <th>AppliedAmount</th>\n",
       "      <th>DebtToIncome</th>\n",
       "      <th>ExpectedLoss</th>\n",
       "      <th>LiabilitiesTotal</th>\n",
       "      <th>FreeCash</th>\n",
       "      <th>IncomeFromChildSupport</th>\n",
       "      <th>IncomeFromFamilyAllowance</th>\n",
       "      <th>IncomeFromLeavePay</th>\n",
       "      <th>IncomeFromPension</th>\n",
       "      <th>...</th>\n",
       "      <th>VerificationType_2.0</th>\n",
       "      <th>VerificationType_3.0</th>\n",
       "      <th>VerificationType_4.0</th>\n",
       "      <th>WorkExperience_10To15Years</th>\n",
       "      <th>WorkExperience_15To25Years</th>\n",
       "      <th>WorkExperience_2To5Years</th>\n",
       "      <th>WorkExperience_5To10Years</th>\n",
       "      <th>WorkExperience_LessThan2Years</th>\n",
       "      <th>WorkExperience_MoreThan25Years</th>\n",
       "      <th>Young</th>\n",
       "    </tr>\n",
       "  </thead>\n",
       "  <tbody>\n",
       "    <tr>\n",
       "      <th>0</th>\n",
       "      <td>54.0</td>\n",
       "      <td>8505.0</td>\n",
       "      <td>0.0</td>\n",
       "      <td>0.118622</td>\n",
       "      <td>87.82</td>\n",
       "      <td>0.0</td>\n",
       "      <td>0.0</td>\n",
       "      <td>0.0</td>\n",
       "      <td>0.0</td>\n",
       "      <td>0.0</td>\n",
       "      <td>...</td>\n",
       "      <td>0</td>\n",
       "      <td>0</td>\n",
       "      <td>0</td>\n",
       "      <td>0</td>\n",
       "      <td>0</td>\n",
       "      <td>0</td>\n",
       "      <td>1</td>\n",
       "      <td>0</td>\n",
       "      <td>0</td>\n",
       "      <td>0</td>\n",
       "    </tr>\n",
       "    <tr>\n",
       "      <th>1</th>\n",
       "      <td>52.0</td>\n",
       "      <td>2230.0</td>\n",
       "      <td>0.0</td>\n",
       "      <td>0.059200</td>\n",
       "      <td>309.23</td>\n",
       "      <td>0.0</td>\n",
       "      <td>0.0</td>\n",
       "      <td>0.0</td>\n",
       "      <td>0.0</td>\n",
       "      <td>0.0</td>\n",
       "      <td>...</td>\n",
       "      <td>0</td>\n",
       "      <td>0</td>\n",
       "      <td>0</td>\n",
       "      <td>0</td>\n",
       "      <td>0</td>\n",
       "      <td>1</td>\n",
       "      <td>0</td>\n",
       "      <td>0</td>\n",
       "      <td>0</td>\n",
       "      <td>0</td>\n",
       "    </tr>\n",
       "    <tr>\n",
       "      <th>2</th>\n",
       "      <td>28.0</td>\n",
       "      <td>530.0</td>\n",
       "      <td>0.0</td>\n",
       "      <td>0.048764</td>\n",
       "      <td>143.58</td>\n",
       "      <td>0.0</td>\n",
       "      <td>0.0</td>\n",
       "      <td>0.0</td>\n",
       "      <td>0.0</td>\n",
       "      <td>0.0</td>\n",
       "      <td>...</td>\n",
       "      <td>0</td>\n",
       "      <td>0</td>\n",
       "      <td>0</td>\n",
       "      <td>0</td>\n",
       "      <td>0</td>\n",
       "      <td>1</td>\n",
       "      <td>0</td>\n",
       "      <td>0</td>\n",
       "      <td>0</td>\n",
       "      <td>1</td>\n",
       "    </tr>\n",
       "    <tr>\n",
       "      <th>3</th>\n",
       "      <td>40.0</td>\n",
       "      <td>1380.0</td>\n",
       "      <td>0.0</td>\n",
       "      <td>0.071894</td>\n",
       "      <td>70.65</td>\n",
       "      <td>0.0</td>\n",
       "      <td>0.0</td>\n",
       "      <td>0.0</td>\n",
       "      <td>0.0</td>\n",
       "      <td>0.0</td>\n",
       "      <td>...</td>\n",
       "      <td>0</td>\n",
       "      <td>0</td>\n",
       "      <td>0</td>\n",
       "      <td>0</td>\n",
       "      <td>0</td>\n",
       "      <td>0</td>\n",
       "      <td>1</td>\n",
       "      <td>0</td>\n",
       "      <td>0</td>\n",
       "      <td>0</td>\n",
       "    </tr>\n",
       "    <tr>\n",
       "      <th>4</th>\n",
       "      <td>31.0</td>\n",
       "      <td>530.0</td>\n",
       "      <td>0.0</td>\n",
       "      <td>0.043700</td>\n",
       "      <td>719.42</td>\n",
       "      <td>0.0</td>\n",
       "      <td>0.0</td>\n",
       "      <td>0.0</td>\n",
       "      <td>0.0</td>\n",
       "      <td>0.0</td>\n",
       "      <td>...</td>\n",
       "      <td>0</td>\n",
       "      <td>0</td>\n",
       "      <td>1</td>\n",
       "      <td>0</td>\n",
       "      <td>0</td>\n",
       "      <td>0</td>\n",
       "      <td>0</td>\n",
       "      <td>1</td>\n",
       "      <td>0</td>\n",
       "      <td>1</td>\n",
       "    </tr>\n",
       "  </tbody>\n",
       "</table>\n",
       "<p>5 rows × 205 columns</p>\n",
       "</div>"
      ],
      "text/plain": [
       "    Age  AppliedAmount  DebtToIncome  ExpectedLoss  LiabilitiesTotal  \\\n",
       "0  54.0         8505.0           0.0      0.118622             87.82   \n",
       "1  52.0         2230.0           0.0      0.059200            309.23   \n",
       "2  28.0          530.0           0.0      0.048764            143.58   \n",
       "3  40.0         1380.0           0.0      0.071894             70.65   \n",
       "4  31.0          530.0           0.0      0.043700            719.42   \n",
       "\n",
       "   FreeCash  IncomeFromChildSupport  IncomeFromFamilyAllowance  \\\n",
       "0       0.0                     0.0                        0.0   \n",
       "1       0.0                     0.0                        0.0   \n",
       "2       0.0                     0.0                        0.0   \n",
       "3       0.0                     0.0                        0.0   \n",
       "4       0.0                     0.0                        0.0   \n",
       "\n",
       "   IncomeFromLeavePay  IncomeFromPension  ...  VerificationType_2.0  \\\n",
       "0                 0.0                0.0  ...                     0   \n",
       "1                 0.0                0.0  ...                     0   \n",
       "2                 0.0                0.0  ...                     0   \n",
       "3                 0.0                0.0  ...                     0   \n",
       "4                 0.0                0.0  ...                     0   \n",
       "\n",
       "   VerificationType_3.0  VerificationType_4.0  WorkExperience_10To15Years  \\\n",
       "0                     0                     0                           0   \n",
       "1                     0                     0                           0   \n",
       "2                     0                     0                           0   \n",
       "3                     0                     0                           0   \n",
       "4                     0                     1                           0   \n",
       "\n",
       "   WorkExperience_15To25Years  WorkExperience_2To5Years  \\\n",
       "0                           0                         0   \n",
       "1                           0                         1   \n",
       "2                           0                         1   \n",
       "3                           0                         0   \n",
       "4                           0                         0   \n",
       "\n",
       "   WorkExperience_5To10Years  WorkExperience_LessThan2Years  \\\n",
       "0                          1                              0   \n",
       "1                          0                              0   \n",
       "2                          0                              0   \n",
       "3                          1                              0   \n",
       "4                          0                              1   \n",
       "\n",
       "   WorkExperience_MoreThan25Years  Young  \n",
       "0                               0      0  \n",
       "1                               0      0  \n",
       "2                               0      1  \n",
       "3                               0      0  \n",
       "4                               0      1  \n",
       "\n",
       "[5 rows x 205 columns]"
      ]
     },
     "execution_count": 4,
     "metadata": {},
     "output_type": "execute_result"
    }
   ],
   "source": [
    "data.head()"
   ]
  },
  {
   "cell_type": "markdown",
   "id": "6a8815d8",
   "metadata": {},
   "source": [
    "### Full Model - With Sensitive Features"
   ]
  },
  {
   "cell_type": "code",
   "execution_count": 5,
   "id": "1151e5a4",
   "metadata": {},
   "outputs": [],
   "source": [
    "# Gender_1.0 = Male, MaritalStatus_1.0 = Married, LanguageCode_1 = Estonian\n",
    "data_acf_log = data[['Default','Age', 'AppliedAmount', 'ExpectedLoss', 'LiabilitiesTotal', \n",
    "                     'IncomeTotal','Interest', 'LoanDuration', 'MonthlyPayment', 'Gender_1.0',\n",
    "                     'MaritalStatus_1.0','LanguageCode_1', 'NrOfDependantslessthan3']]"
   ]
  },
  {
   "cell_type": "code",
   "execution_count": 6,
   "id": "587797ac",
   "metadata": {
    "scrolled": true
   },
   "outputs": [],
   "source": [
    "target_variable = \"Default\"\n",
    "protected_features = ['Gender_1.0','MaritalStatus_1.0','LanguageCode_1','NrOfDependantslessthan3']\n",
    "independent_features = ['Age', 'AppliedAmount', 'ExpectedLoss', 'LiabilitiesTotal','IncomeTotal', 'Interest', 'LoanDuration', 'MonthlyPayment']"
   ]
  },
  {
   "cell_type": "code",
   "execution_count": 7,
   "id": "48c1e74e",
   "metadata": {},
   "outputs": [],
   "source": [
    "for col in data_acf_log.columns:\n",
    "    if data_acf_log.isnull().sum()[col]!=0:\n",
    "        data_acf_log[col].fillna((data_acf_log[col].mean()), inplace=True)  "
   ]
  },
  {
   "cell_type": "code",
   "execution_count": 8,
   "id": "71c3541a",
   "metadata": {},
   "outputs": [],
   "source": [
    "full_model = Generic(data_acf_log,protected_features,independent_features,target_variable,False) # initializing object with data and features\n",
    "full_model.fit() # fitting the model \n",
    "full_model_predictions = full_model.predict() # predicting using model\n",
    "full_model_pred_probs = full_model.predict_proba() # predicting probabilities using model\n",
    "full_model_metrics = full_model.get_model_metrics() # ROC AUC Score\n",
    "fm_fairness_metrics = full_model.get_fairness_metrics() # equal odds, demographic parity, predictive parity\n",
    "fm_model_metrics_diff = full_model.get_model_metrics_difference() # difference in model metrics between two groups of each feature"
   ]
  },
  {
   "cell_type": "code",
   "execution_count": 9,
   "id": "f06f19fb",
   "metadata": {},
   "outputs": [
    {
     "name": "stdout",
     "output_type": "stream",
     "text": [
      "Fairness Metrics for Full Model with sensitive features\n"
     ]
    },
    {
     "data": {
      "text/html": [
       "<div>\n",
       "<style scoped>\n",
       "    .dataframe tbody tr th:only-of-type {\n",
       "        vertical-align: middle;\n",
       "    }\n",
       "\n",
       "    .dataframe tbody tr th {\n",
       "        vertical-align: top;\n",
       "    }\n",
       "\n",
       "    .dataframe thead th {\n",
       "        text-align: right;\n",
       "    }\n",
       "</style>\n",
       "<table border=\"1\" class=\"dataframe\">\n",
       "  <thead>\n",
       "    <tr style=\"text-align: right;\">\n",
       "      <th></th>\n",
       "      <th>Column</th>\n",
       "      <th>Equal Odds (Full Model with sensitive features)</th>\n",
       "      <th>Demographic Parity (Full Model with sensitive features)</th>\n",
       "      <th>Predictive Parity (Full Model with sensitive features)</th>\n",
       "    </tr>\n",
       "  </thead>\n",
       "  <tbody>\n",
       "    <tr>\n",
       "      <th>0</th>\n",
       "      <td>Gender_1.0</td>\n",
       "      <td>0.051471</td>\n",
       "      <td>0.024067</td>\n",
       "      <td>0.019140</td>\n",
       "    </tr>\n",
       "    <tr>\n",
       "      <th>1</th>\n",
       "      <td>MaritalStatus_1.0</td>\n",
       "      <td>0.288983</td>\n",
       "      <td>0.127875</td>\n",
       "      <td>0.103305</td>\n",
       "    </tr>\n",
       "    <tr>\n",
       "      <th>2</th>\n",
       "      <td>LanguageCode_1</td>\n",
       "      <td>0.046099</td>\n",
       "      <td>0.015235</td>\n",
       "      <td>0.152357</td>\n",
       "    </tr>\n",
       "    <tr>\n",
       "      <th>3</th>\n",
       "      <td>NrOfDependantslessthan3</td>\n",
       "      <td>0.944578</td>\n",
       "      <td>0.481529</td>\n",
       "      <td>0.058730</td>\n",
       "    </tr>\n",
       "  </tbody>\n",
       "</table>\n",
       "</div>"
      ],
      "text/plain": [
       "                    Column  Equal Odds (Full Model with sensitive features)  \\\n",
       "0               Gender_1.0                                         0.051471   \n",
       "1        MaritalStatus_1.0                                         0.288983   \n",
       "2           LanguageCode_1                                         0.046099   \n",
       "3  NrOfDependantslessthan3                                         0.944578   \n",
       "\n",
       "   Demographic Parity (Full Model with sensitive features)  \\\n",
       "0                                           0.024067         \n",
       "1                                           0.127875         \n",
       "2                                           0.015235         \n",
       "3                                           0.481529         \n",
       "\n",
       "   Predictive Parity (Full Model with sensitive features)  \n",
       "0                                           0.019140       \n",
       "1                                           0.103305       \n",
       "2                                           0.152357       \n",
       "3                                           0.058730       "
      ]
     },
     "execution_count": 9,
     "metadata": {},
     "output_type": "execute_result"
    }
   ],
   "source": [
    "print(\"Fairness Metrics for Full Model with sensitive features\") # equal odds, demographic parity, predictive parity\n",
    "fm_fairness_metrics"
   ]
  },
  {
   "cell_type": "code",
   "execution_count": 10,
   "id": "29cf69e2",
   "metadata": {},
   "outputs": [
    {
     "name": "stdout",
     "output_type": "stream",
     "text": [
      "Difference in Model Metrics for Full Model with sensitive features\n"
     ]
    },
    {
     "data": {
      "text/html": [
       "<div>\n",
       "<style scoped>\n",
       "    .dataframe tbody tr th:only-of-type {\n",
       "        vertical-align: middle;\n",
       "    }\n",
       "\n",
       "    .dataframe tbody tr th {\n",
       "        vertical-align: top;\n",
       "    }\n",
       "\n",
       "    .dataframe thead th {\n",
       "        text-align: right;\n",
       "    }\n",
       "</style>\n",
       "<table border=\"1\" class=\"dataframe\">\n",
       "  <thead>\n",
       "    <tr style=\"text-align: right;\">\n",
       "      <th></th>\n",
       "      <th>Column</th>\n",
       "      <th>ROC AUC Score Difference (Full Model with sensitive features)</th>\n",
       "    </tr>\n",
       "  </thead>\n",
       "  <tbody>\n",
       "    <tr>\n",
       "      <th>0</th>\n",
       "      <td>Gender_1.0</td>\n",
       "      <td>0.000308</td>\n",
       "    </tr>\n",
       "    <tr>\n",
       "      <th>1</th>\n",
       "      <td>MaritalStatus_1.0</td>\n",
       "      <td>0.016447</td>\n",
       "    </tr>\n",
       "    <tr>\n",
       "      <th>2</th>\n",
       "      <td>LanguageCode_1</td>\n",
       "      <td>0.004332</td>\n",
       "    </tr>\n",
       "    <tr>\n",
       "      <th>3</th>\n",
       "      <td>NrOfDependantslessthan3</td>\n",
       "      <td>0.123395</td>\n",
       "    </tr>\n",
       "  </tbody>\n",
       "</table>\n",
       "</div>"
      ],
      "text/plain": [
       "                    Column  \\\n",
       "0               Gender_1.0   \n",
       "1        MaritalStatus_1.0   \n",
       "2           LanguageCode_1   \n",
       "3  NrOfDependantslessthan3   \n",
       "\n",
       "   ROC AUC Score Difference (Full Model with sensitive features)  \n",
       "0                                           0.000308              \n",
       "1                                           0.016447              \n",
       "2                                           0.004332              \n",
       "3                                           0.123395              "
      ]
     },
     "execution_count": 10,
     "metadata": {},
     "output_type": "execute_result"
    }
   ],
   "source": [
    "print(\"Difference in Model Metrics for Full Model with sensitive features\")\n",
    "fm_model_metrics_diff"
   ]
  },
  {
   "cell_type": "markdown",
   "id": "2e09d9b2",
   "metadata": {},
   "source": [
    "### Full Model - Without Sensitive Features"
   ]
  },
  {
   "cell_type": "code",
   "execution_count": 11,
   "id": "a7666ef9",
   "metadata": {},
   "outputs": [],
   "source": [
    "data_acf_log_2 = data[['Default','Age', 'AppliedAmount', 'ExpectedLoss', 'LiabilitiesTotal', \n",
    "                     'IncomeTotal','Interest', 'LoanDuration', 'MonthlyPayment']]"
   ]
  },
  {
   "cell_type": "code",
   "execution_count": 12,
   "id": "fbc0280e",
   "metadata": {},
   "outputs": [],
   "source": [
    "for col in data_acf_log_2.columns:\n",
    "    if data_acf_log_2.isnull().sum()[col]!=0:\n",
    "        data_acf_log_2[col].fillna((data_acf_log_2[col].mean()), inplace=True)  "
   ]
  },
  {
   "cell_type": "code",
   "execution_count": 13,
   "id": "29bfcbd9",
   "metadata": {},
   "outputs": [],
   "source": [
    "y=data_acf_log_2[target_variable]*1000\n",
    "x=data_acf_log_2.drop(columns=[target_variable])\n",
    "X_train_2, X_test_2, y_train, y_test = train_test_split(x, y, test_size=0.20, random_state=3000)"
   ]
  },
  {
   "cell_type": "code",
   "execution_count": 14,
   "id": "277ea666",
   "metadata": {},
   "outputs": [],
   "source": [
    "full_model_2 = Generic(data_acf_log,protected_features,independent_features,target_variable,False,False) # initializing object with data and features\n",
    "full_model_2.fit(X_train_2) # fitting the model \n",
    "full_model_2_predictions = full_model_2.predict(X_test_2) # predicting using model \n",
    "full_model_2_pred_probs = full_model_2.predict_proba(X_test_2) # predicting probabilities using model\n",
    "full_model_2_metrics = full_model_2.get_model_metrics() # ROC AUC Score\n",
    "fm2_fairness_metrics = full_model_2.get_fairness_metrics() # equal odds, demographic parity, predictive parity\n",
    "fm2_model_metrics_diff = full_model_2.get_model_metrics_difference() # difference in model metrics between two groups of each feature"
   ]
  },
  {
   "cell_type": "code",
   "execution_count": 15,
   "id": "94079dd9",
   "metadata": {},
   "outputs": [
    {
     "name": "stdout",
     "output_type": "stream",
     "text": [
      "Fairness Metrics for Full Model without sensitive features\n"
     ]
    },
    {
     "data": {
      "text/html": [
       "<div>\n",
       "<style scoped>\n",
       "    .dataframe tbody tr th:only-of-type {\n",
       "        vertical-align: middle;\n",
       "    }\n",
       "\n",
       "    .dataframe tbody tr th {\n",
       "        vertical-align: top;\n",
       "    }\n",
       "\n",
       "    .dataframe thead th {\n",
       "        text-align: right;\n",
       "    }\n",
       "</style>\n",
       "<table border=\"1\" class=\"dataframe\">\n",
       "  <thead>\n",
       "    <tr style=\"text-align: right;\">\n",
       "      <th></th>\n",
       "      <th>Column</th>\n",
       "      <th>Equal Odds (Full Model without sensitive features)</th>\n",
       "      <th>Demographic Parity (Full Model without sensitive features)</th>\n",
       "      <th>Predictive Parity (Full Model without sensitive features)</th>\n",
       "    </tr>\n",
       "  </thead>\n",
       "  <tbody>\n",
       "    <tr>\n",
       "      <th>0</th>\n",
       "      <td>Gender_1.0</td>\n",
       "      <td>0.012496</td>\n",
       "      <td>0.008364</td>\n",
       "      <td>0.004202</td>\n",
       "    </tr>\n",
       "    <tr>\n",
       "      <th>1</th>\n",
       "      <td>MaritalStatus_1.0</td>\n",
       "      <td>0.063628</td>\n",
       "      <td>0.037145</td>\n",
       "      <td>0.089635</td>\n",
       "    </tr>\n",
       "    <tr>\n",
       "      <th>2</th>\n",
       "      <td>LanguageCode_1</td>\n",
       "      <td>0.006087</td>\n",
       "      <td>0.000225</td>\n",
       "      <td>0.248638</td>\n",
       "    </tr>\n",
       "    <tr>\n",
       "      <th>3</th>\n",
       "      <td>NrOfDependantslessthan3</td>\n",
       "      <td>0.082708</td>\n",
       "      <td>0.044747</td>\n",
       "      <td>0.305556</td>\n",
       "    </tr>\n",
       "  </tbody>\n",
       "</table>\n",
       "</div>"
      ],
      "text/plain": [
       "                    Column  \\\n",
       "0               Gender_1.0   \n",
       "1        MaritalStatus_1.0   \n",
       "2           LanguageCode_1   \n",
       "3  NrOfDependantslessthan3   \n",
       "\n",
       "   Equal Odds (Full Model without sensitive features)  \\\n",
       "0                                           0.012496    \n",
       "1                                           0.063628    \n",
       "2                                           0.006087    \n",
       "3                                           0.082708    \n",
       "\n",
       "   Demographic Parity (Full Model without sensitive features)  \\\n",
       "0                                           0.008364            \n",
       "1                                           0.037145            \n",
       "2                                           0.000225            \n",
       "3                                           0.044747            \n",
       "\n",
       "   Predictive Parity (Full Model without sensitive features)  \n",
       "0                                           0.004202          \n",
       "1                                           0.089635          \n",
       "2                                           0.248638          \n",
       "3                                           0.305556          "
      ]
     },
     "execution_count": 15,
     "metadata": {},
     "output_type": "execute_result"
    }
   ],
   "source": [
    "print(\"Fairness Metrics for Full Model without sensitive features\") # equal odds, demographic parity, predictive parity\n",
    "fm2_fairness_metrics"
   ]
  },
  {
   "cell_type": "code",
   "execution_count": 16,
   "id": "bd581a93",
   "metadata": {},
   "outputs": [
    {
     "name": "stdout",
     "output_type": "stream",
     "text": [
      "Difference in Model Metrics for Full Model without sensitive features\n"
     ]
    },
    {
     "data": {
      "text/html": [
       "<div>\n",
       "<style scoped>\n",
       "    .dataframe tbody tr th:only-of-type {\n",
       "        vertical-align: middle;\n",
       "    }\n",
       "\n",
       "    .dataframe tbody tr th {\n",
       "        vertical-align: top;\n",
       "    }\n",
       "\n",
       "    .dataframe thead th {\n",
       "        text-align: right;\n",
       "    }\n",
       "</style>\n",
       "<table border=\"1\" class=\"dataframe\">\n",
       "  <thead>\n",
       "    <tr style=\"text-align: right;\">\n",
       "      <th></th>\n",
       "      <th>Column</th>\n",
       "      <th>ROC AUC Score Difference (Full Model without sensitive features)</th>\n",
       "    </tr>\n",
       "  </thead>\n",
       "  <tbody>\n",
       "    <tr>\n",
       "      <th>0</th>\n",
       "      <td>Gender_1.0</td>\n",
       "      <td>0.007549</td>\n",
       "    </tr>\n",
       "    <tr>\n",
       "      <th>1</th>\n",
       "      <td>MaritalStatus_1.0</td>\n",
       "      <td>0.011307</td>\n",
       "    </tr>\n",
       "    <tr>\n",
       "      <th>2</th>\n",
       "      <td>LanguageCode_1</td>\n",
       "      <td>0.002006</td>\n",
       "    </tr>\n",
       "    <tr>\n",
       "      <th>3</th>\n",
       "      <td>NrOfDependantslessthan3</td>\n",
       "      <td>0.107007</td>\n",
       "    </tr>\n",
       "  </tbody>\n",
       "</table>\n",
       "</div>"
      ],
      "text/plain": [
       "                    Column  \\\n",
       "0               Gender_1.0   \n",
       "1        MaritalStatus_1.0   \n",
       "2           LanguageCode_1   \n",
       "3  NrOfDependantslessthan3   \n",
       "\n",
       "   ROC AUC Score Difference (Full Model without sensitive features)  \n",
       "0                                           0.007549                 \n",
       "1                                           0.011307                 \n",
       "2                                           0.002006                 \n",
       "3                                           0.107007                 "
      ]
     },
     "execution_count": 16,
     "metadata": {},
     "output_type": "execute_result"
    }
   ],
   "source": [
    "print(\"Difference in Model Metrics for Full Model without sensitive features\")\n",
    "fm2_model_metrics_diff"
   ]
  },
  {
   "cell_type": "markdown",
   "id": "eebd9568",
   "metadata": {},
   "source": [
    "### ACF Model"
   ]
  },
  {
   "cell_type": "code",
   "execution_count": 17,
   "id": "951b581f",
   "metadata": {},
   "outputs": [],
   "source": [
    "ACF = Generic(data_acf_log,protected_features,independent_features,target_variable,True) # initializing object with data and features\n",
    "df_R_train = ACF.get_residuals_train_data() # getting residuals which are independent of sensitive features - train data\n",
    "ACF.fit(df_R_train) # fitting the model\n",
    "df_R_test = ACF.get_residuals_test_data() # getting residuals which are independent of sensitive features - test data\n",
    "acf_predictions = ACF.predict(df_R_test) # predicting using model \n",
    "acf_pred_probs = ACF.predict_proba(df_R_test) # predicting probabilities using model\n",
    "acf_model_metrics = ACF.get_model_metrics() # ROC AUC Score\n",
    "acf_fairness_metrics = ACF.get_fairness_metrics() # equal odds, demographic parity, predictive parity\n",
    "acf_model_metrics_diff = ACF.get_model_metrics_difference() # difference in model metrics between two groups of each feature"
   ]
  },
  {
   "cell_type": "code",
   "execution_count": 18,
   "id": "a8904b4e",
   "metadata": {},
   "outputs": [
    {
     "name": "stdout",
     "output_type": "stream",
     "text": [
      "Fairness Metrics for ACF Model\n"
     ]
    },
    {
     "data": {
      "text/html": [
       "<div>\n",
       "<style scoped>\n",
       "    .dataframe tbody tr th:only-of-type {\n",
       "        vertical-align: middle;\n",
       "    }\n",
       "\n",
       "    .dataframe tbody tr th {\n",
       "        vertical-align: top;\n",
       "    }\n",
       "\n",
       "    .dataframe thead th {\n",
       "        text-align: right;\n",
       "    }\n",
       "</style>\n",
       "<table border=\"1\" class=\"dataframe\">\n",
       "  <thead>\n",
       "    <tr style=\"text-align: right;\">\n",
       "      <th></th>\n",
       "      <th>Column</th>\n",
       "      <th>Equal Odds (ACF Model)</th>\n",
       "      <th>Demographic Parity (ACF Model)</th>\n",
       "      <th>Predictive Parity (ACF Model)</th>\n",
       "    </tr>\n",
       "  </thead>\n",
       "  <tbody>\n",
       "    <tr>\n",
       "      <th>0</th>\n",
       "      <td>Gender_1.0</td>\n",
       "      <td>0.005487</td>\n",
       "      <td>0.005920</td>\n",
       "      <td>0.078661</td>\n",
       "    </tr>\n",
       "    <tr>\n",
       "      <th>1</th>\n",
       "      <td>MaritalStatus_1.0</td>\n",
       "      <td>0.008054</td>\n",
       "      <td>0.019286</td>\n",
       "      <td>0.203200</td>\n",
       "    </tr>\n",
       "    <tr>\n",
       "      <th>2</th>\n",
       "      <td>LanguageCode_1</td>\n",
       "      <td>0.002709</td>\n",
       "      <td>0.001302</td>\n",
       "      <td>0.165116</td>\n",
       "    </tr>\n",
       "    <tr>\n",
       "      <th>3</th>\n",
       "      <td>NrOfDependantslessthan3</td>\n",
       "      <td>0.009385</td>\n",
       "      <td>0.015026</td>\n",
       "      <td>0.107143</td>\n",
       "    </tr>\n",
       "  </tbody>\n",
       "</table>\n",
       "</div>"
      ],
      "text/plain": [
       "                    Column  Equal Odds (ACF Model)  \\\n",
       "0               Gender_1.0                0.005487   \n",
       "1        MaritalStatus_1.0                0.008054   \n",
       "2           LanguageCode_1                0.002709   \n",
       "3  NrOfDependantslessthan3                0.009385   \n",
       "\n",
       "   Demographic Parity (ACF Model)  Predictive Parity (ACF Model)  \n",
       "0                        0.005920                       0.078661  \n",
       "1                        0.019286                       0.203200  \n",
       "2                        0.001302                       0.165116  \n",
       "3                        0.015026                       0.107143  "
      ]
     },
     "execution_count": 18,
     "metadata": {},
     "output_type": "execute_result"
    }
   ],
   "source": [
    "print(\"Fairness Metrics for ACF Model\") # equal odds, demographic parity, predictive parity\n",
    "acf_fairness_metrics"
   ]
  },
  {
   "cell_type": "code",
   "execution_count": 19,
   "id": "60200e0b",
   "metadata": {
    "scrolled": true
   },
   "outputs": [
    {
     "name": "stdout",
     "output_type": "stream",
     "text": [
      "Difference in Model Metrics for ACF Model\n"
     ]
    },
    {
     "data": {
      "text/html": [
       "<div>\n",
       "<style scoped>\n",
       "    .dataframe tbody tr th:only-of-type {\n",
       "        vertical-align: middle;\n",
       "    }\n",
       "\n",
       "    .dataframe tbody tr th {\n",
       "        vertical-align: top;\n",
       "    }\n",
       "\n",
       "    .dataframe thead th {\n",
       "        text-align: right;\n",
       "    }\n",
       "</style>\n",
       "<table border=\"1\" class=\"dataframe\">\n",
       "  <thead>\n",
       "    <tr style=\"text-align: right;\">\n",
       "      <th></th>\n",
       "      <th>Column</th>\n",
       "      <th>ROC AUC Score Difference (ACF Model)</th>\n",
       "    </tr>\n",
       "  </thead>\n",
       "  <tbody>\n",
       "    <tr>\n",
       "      <th>0</th>\n",
       "      <td>Gender_1.0</td>\n",
       "      <td>0.022266</td>\n",
       "    </tr>\n",
       "    <tr>\n",
       "      <th>1</th>\n",
       "      <td>MaritalStatus_1.0</td>\n",
       "      <td>0.032737</td>\n",
       "    </tr>\n",
       "    <tr>\n",
       "      <th>2</th>\n",
       "      <td>LanguageCode_1</td>\n",
       "      <td>0.002859</td>\n",
       "    </tr>\n",
       "    <tr>\n",
       "      <th>3</th>\n",
       "      <td>NrOfDependantslessthan3</td>\n",
       "      <td>0.098838</td>\n",
       "    </tr>\n",
       "  </tbody>\n",
       "</table>\n",
       "</div>"
      ],
      "text/plain": [
       "                    Column  ROC AUC Score Difference (ACF Model)\n",
       "0               Gender_1.0                              0.022266\n",
       "1        MaritalStatus_1.0                              0.032737\n",
       "2           LanguageCode_1                              0.002859\n",
       "3  NrOfDependantslessthan3                              0.098838"
      ]
     },
     "execution_count": 19,
     "metadata": {},
     "output_type": "execute_result"
    }
   ],
   "source": [
    "print(\"Difference in Model Metrics for ACF Model\")\n",
    "acf_model_metrics_diff"
   ]
  },
  {
   "cell_type": "markdown",
   "id": "333af4dd",
   "metadata": {},
   "source": [
    "### Fairness Metrics Comparison"
   ]
  },
  {
   "cell_type": "code",
   "execution_count": 20,
   "id": "1a92a3d3",
   "metadata": {},
   "outputs": [
    {
     "data": {
      "image/png": "[encoded data removed]",
      "text/plain": [
       "<Figure size 3600x1800 with 4 Axes>"
      ]
     },
     "metadata": {
      "needs_background": "light"
     },
     "output_type": "display_data"
    }
   ],
   "source": [
    "metrics = [\"Equal Odds\",\"Demographic Parity\",\"Predictive Parity\"]\n",
    "ACF.get_fairness_metrics_plots(metrics,acf_fairness_metrics,fm_fairness_metrics)"
   ]
  },
  {
   "cell_type": "code",
   "execution_count": 21,
   "id": "2fe47940",
   "metadata": {},
   "outputs": [
    {
     "name": "stdout",
     "output_type": "stream",
     "text": [
      "Model Metrics for Full Model with sensitive features\n"
     ]
    },
    {
     "data": {
      "text/html": [
       "<div>\n",
       "<style scoped>\n",
       "    .dataframe tbody tr th:only-of-type {\n",
       "        vertical-align: middle;\n",
       "    }\n",
       "\n",
       "    .dataframe tbody tr th {\n",
       "        vertical-align: top;\n",
       "    }\n",
       "\n",
       "    .dataframe thead th {\n",
       "        text-align: right;\n",
       "    }\n",
       "</style>\n",
       "<table border=\"1\" class=\"dataframe\">\n",
       "  <thead>\n",
       "    <tr style=\"text-align: right;\">\n",
       "      <th></th>\n",
       "      <th>ROC AUC Score (Full Model with sensitive features)</th>\n",
       "    </tr>\n",
       "  </thead>\n",
       "  <tbody>\n",
       "    <tr>\n",
       "      <th>0</th>\n",
       "      <td>0.648803</td>\n",
       "    </tr>\n",
       "  </tbody>\n",
       "</table>\n",
       "</div>"
      ],
      "text/plain": [
       "   ROC AUC Score (Full Model with sensitive features)\n",
       "0                                           0.648803 "
      ]
     },
     "execution_count": 21,
     "metadata": {},
     "output_type": "execute_result"
    }
   ],
   "source": [
    "print(\"Model Metrics for Full Model with sensitive features\")\n",
    "1-full_model_metrics"
   ]
  },
  {
   "cell_type": "code",
   "execution_count": 22,
   "id": "ac07293d",
   "metadata": {},
   "outputs": [
    {
     "name": "stdout",
     "output_type": "stream",
     "text": [
      "Model Metrics for Full Model without sensitive features\n"
     ]
    },
    {
     "data": {
      "text/html": [
       "<div>\n",
       "<style scoped>\n",
       "    .dataframe tbody tr th:only-of-type {\n",
       "        vertical-align: middle;\n",
       "    }\n",
       "\n",
       "    .dataframe tbody tr th {\n",
       "        vertical-align: top;\n",
       "    }\n",
       "\n",
       "    .dataframe thead th {\n",
       "        text-align: right;\n",
       "    }\n",
       "</style>\n",
       "<table border=\"1\" class=\"dataframe\">\n",
       "  <thead>\n",
       "    <tr style=\"text-align: right;\">\n",
       "      <th></th>\n",
       "      <th>ROC AUC Score (Full Model without sensitive features)</th>\n",
       "    </tr>\n",
       "  </thead>\n",
       "  <tbody>\n",
       "    <tr>\n",
       "      <th>0</th>\n",
       "      <td>0.640811</td>\n",
       "    </tr>\n",
       "  </tbody>\n",
       "</table>\n",
       "</div>"
      ],
      "text/plain": [
       "   ROC AUC Score (Full Model without sensitive features)\n",
       "0                                           0.640811    "
      ]
     },
     "execution_count": 22,
     "metadata": {},
     "output_type": "execute_result"
    }
   ],
   "source": [
    "print(\"Model Metrics for Full Model without sensitive features\")\n",
    "1-full_model_2_metrics"
   ]
  },
  {
   "cell_type": "code",
   "execution_count": 23,
   "id": "1b75fe99",
   "metadata": {},
   "outputs": [
    {
     "name": "stdout",
     "output_type": "stream",
     "text": [
      "Model Metrics for ACF Model\n"
     ]
    },
    {
     "data": {
      "text/html": [
       "<div>\n",
       "<style scoped>\n",
       "    .dataframe tbody tr th:only-of-type {\n",
       "        vertical-align: middle;\n",
       "    }\n",
       "\n",
       "    .dataframe tbody tr th {\n",
       "        vertical-align: top;\n",
       "    }\n",
       "\n",
       "    .dataframe thead th {\n",
       "        text-align: right;\n",
       "    }\n",
       "</style>\n",
       "<table border=\"1\" class=\"dataframe\">\n",
       "  <thead>\n",
       "    <tr style=\"text-align: right;\">\n",
       "      <th></th>\n",
       "      <th>ROC AUC Score (ACF Model)</th>\n",
       "    </tr>\n",
       "  </thead>\n",
       "  <tbody>\n",
       "    <tr>\n",
       "      <th>0</th>\n",
       "      <td>0.633112</td>\n",
       "    </tr>\n",
       "  </tbody>\n",
       "</table>\n",
       "</div>"
      ],
      "text/plain": [
       "   ROC AUC Score (ACF Model)\n",
       "0                   0.633112"
      ]
     },
     "execution_count": 23,
     "metadata": {},
     "output_type": "execute_result"
    }
   ],
   "source": [
    "print(\"Model Metrics for ACF Model\")\n",
    "1-acf_model_metrics"
   ]
  },
  {
   "cell_type": "markdown",
   "id": "1da7c9a3",
   "metadata": {},
   "source": [
    "### Error in predicting probabilty of Default Vs Applied Loan Amount"
   ]
  },
  {
   "cell_type": "code",
   "execution_count": 24,
   "id": "17aac719",
   "metadata": {},
   "outputs": [
    {
     "name": "stdout",
     "output_type": "stream",
     "text": [
      "Actual VS Predicted for Full Model\n"
     ]
    },
    {
     "data": {
      "text/html": [
       "<div>\n",
       "<style scoped>\n",
       "    .dataframe tbody tr th:only-of-type {\n",
       "        vertical-align: middle;\n",
       "    }\n",
       "\n",
       "    .dataframe tbody tr th {\n",
       "        vertical-align: top;\n",
       "    }\n",
       "\n",
       "    .dataframe thead th {\n",
       "        text-align: right;\n",
       "    }\n",
       "</style>\n",
       "<table border=\"1\" class=\"dataframe\">\n",
       "  <thead>\n",
       "    <tr style=\"text-align: right;\">\n",
       "      <th>Predicted</th>\n",
       "      <th>Non-Defaulter</th>\n",
       "      <th>Defaulter</th>\n",
       "    </tr>\n",
       "    <tr>\n",
       "      <th>Actual</th>\n",
       "      <th></th>\n",
       "      <th></th>\n",
       "    </tr>\n",
       "  </thead>\n",
       "  <tbody>\n",
       "    <tr>\n",
       "      <th>Non-Defaulter</th>\n",
       "      <td>9247</td>\n",
       "      <td>133</td>\n",
       "    </tr>\n",
       "    <tr>\n",
       "      <th>1000.0</th>\n",
       "      <td>2751</td>\n",
       "      <td>134</td>\n",
       "    </tr>\n",
       "  </tbody>\n",
       "</table>\n",
       "</div>"
      ],
      "text/plain": [
       "Predicted      Non-Defaulter  Defaulter\n",
       "Actual                                 \n",
       "Non-Defaulter           9247        133\n",
       "1000.0                  2751        134"
      ]
     },
     "execution_count": 24,
     "metadata": {},
     "output_type": "execute_result"
    }
   ],
   "source": [
    "print(\"Actual VS Predicted for Full Model\")\n",
    "crosstab,total_full_model=full_model.get_crosstab_total_amount(full_model_predictions)\n",
    "crosstab"
   ]
  },
  {
   "cell_type": "code",
   "execution_count": 25,
   "id": "45256da3",
   "metadata": {},
   "outputs": [
    {
     "name": "stdout",
     "output_type": "stream",
     "text": [
      "Actual VS Predicted for ACF Model\n"
     ]
    },
    {
     "data": {
      "text/html": [
       "<div>\n",
       "<style scoped>\n",
       "    .dataframe tbody tr th:only-of-type {\n",
       "        vertical-align: middle;\n",
       "    }\n",
       "\n",
       "    .dataframe tbody tr th {\n",
       "        vertical-align: top;\n",
       "    }\n",
       "\n",
       "    .dataframe thead th {\n",
       "        text-align: right;\n",
       "    }\n",
       "</style>\n",
       "<table border=\"1\" class=\"dataframe\">\n",
       "  <thead>\n",
       "    <tr style=\"text-align: right;\">\n",
       "      <th>Predicted</th>\n",
       "      <th>Non-Defaulter</th>\n",
       "      <th>Defaulter</th>\n",
       "    </tr>\n",
       "    <tr>\n",
       "      <th>Actual</th>\n",
       "      <th></th>\n",
       "      <th></th>\n",
       "    </tr>\n",
       "  </thead>\n",
       "  <tbody>\n",
       "    <tr>\n",
       "      <th>Non-Defaulter</th>\n",
       "      <td>9268</td>\n",
       "      <td>112</td>\n",
       "    </tr>\n",
       "    <tr>\n",
       "      <th>1000.0</th>\n",
       "      <td>2742</td>\n",
       "      <td>143</td>\n",
       "    </tr>\n",
       "  </tbody>\n",
       "</table>\n",
       "</div>"
      ],
      "text/plain": [
       "Predicted      Non-Defaulter  Defaulter\n",
       "Actual                                 \n",
       "Non-Defaulter           9268        112\n",
       "1000.0                  2742        143"
      ]
     },
     "execution_count": 25,
     "metadata": {},
     "output_type": "execute_result"
    }
   ],
   "source": [
    "print(\"Actual VS Predicted for ACF Model\")\n",
    "crosstab,total_acf=ACF.get_crosstab_total_amount(acf_predictions)\n",
    "crosstab"
   ]
  },
  {
   "cell_type": "code",
   "execution_count": 26,
   "id": "aaa32afe",
   "metadata": {},
   "outputs": [
    {
     "name": "stdout",
     "output_type": "stream",
     "text": [
      "Total Applied Amount for Full Model:20613423.826\n"
     ]
    }
   ],
   "source": [
    "print(f\"Total Applied Amount for Full Model:{round(total_full_model,3)}\")"
   ]
  },
  {
   "cell_type": "code",
   "execution_count": 34,
   "id": "577ab502",
   "metadata": {},
   "outputs": [
    {
     "name": "stdout",
     "output_type": "stream",
     "text": [
      "Total Applied Amount for ACF Model:20794496.439\n"
     ]
    }
   ],
   "source": [
    "print(f\"Total Applied Amount for ACF Model:{round(total_acf,3)}\")"
   ]
  },
  {
   "cell_type": "markdown",
   "id": "a2653ddd",
   "metadata": {},
   "source": [
    "### Full Model and ACF Model with Counterfactual Data"
   ]
  },
  {
   "cell_type": "markdown",
   "id": "9cb11ee8",
   "metadata": {},
   "source": [
    "<div class=\"alert alert-block alert-info\">\n",
    "CUF Score: $\\frac{1}{n}\\sum({E}$ - ${E'})^{2}$\n",
    "</div>"
   ]
  },
  {
   "cell_type": "code",
   "execution_count": 28,
   "id": "5ab33e4b",
   "metadata": {},
   "outputs": [],
   "source": [
    "error = full_model.get_error(full_model_pred_probs)\n",
    "full_model_counter_factual_data = full_model.get_counterfactual_data()\n",
    "full_model_pred_probs_CUF = full_model.predict_proba(full_model_counter_factual_data)\n",
    "full_model_metrics_CUF = full_model.get_model_metrics()\n",
    "error_counterfactual = full_model.get_error(full_model_pred_probs_CUF)\n",
    "full_model_CUF_score = (np.sum(np.square(error_counterfactual - error))/len(error))"
   ]
  },
  {
   "cell_type": "code",
   "execution_count": 29,
   "id": "16f16768",
   "metadata": {},
   "outputs": [],
   "source": [
    "error_acf = ACF.get_error(acf_pred_probs)\n",
    "acf_counter_factual_data = ACF.get_counterfactual_data()\n",
    "df_R_counter_sens_test = ACF.get_residuals_test_data(True)\n",
    "acf_pred_probs_CUF = ACF.predict_proba(df_R_counter_sens_test)\n",
    "acf_metrics_CUF = ACF.get_model_metrics()\n",
    "error_counterfactual_acf = ACF.get_error(acf_pred_probs_CUF)\n",
    "acf_CUF_score = (np.sum(np.square(error_counterfactual_acf - error_acf))/len(error_acf))"
   ]
  },
  {
   "cell_type": "code",
   "execution_count": 30,
   "id": "0a6c4179",
   "metadata": {},
   "outputs": [
    {
     "name": "stdout",
     "output_type": "stream",
     "text": [
      "CUF Score for Full Model: 86.79090383952989\n"
     ]
    }
   ],
   "source": [
    "print(f\"CUF Score for Full Model: {full_model_CUF_score*1000}\")"
   ]
  },
  {
   "cell_type": "code",
   "execution_count": 31,
   "id": "75fe1911",
   "metadata": {},
   "outputs": [
    {
     "name": "stdout",
     "output_type": "stream",
     "text": [
      "CUF Score for ACF Model: 2.5078944967310153\n"
     ]
    }
   ],
   "source": [
    "print(f\"CUF Score for ACF Model: {acf_CUF_score*1000}\")"
   ]
  },
  {
   "cell_type": "markdown",
   "id": "47d06899",
   "metadata": {},
   "source": [
    "<div class=\"alert alert-block alert-success\">\n",
    "<b>Inference:</b>\n",
    "    The CUF Score has reduced drastically from 86.79 to 2.51 with the ACF model. This helps us conclude that the implementation of ACF technique is successful in mitigating bias.\n",
    "</div>"
   ]
  },
  {
   "cell_type": "markdown",
   "id": "39b1ad34",
   "metadata": {},
   "source": [
    "### CUF Visualizations"
   ]
  },
  {
   "cell_type": "code",
   "execution_count": 32,
   "id": "0b394d16",
   "metadata": {
    "scrolled": true
   },
   "outputs": [
    {
     "data": {
      "image/png": "[encoded data removed]",
      "text/plain": [
       "<Figure size 576x360 with 1 Axes>"
      ]
     },
     "metadata": {
      "needs_background": "light"
     },
     "output_type": "display_data"
    }
   ],
   "source": [
    "full_model.get_plots_CUF(full_model_pred_probs, full_model_pred_probs_CUF, error, error_counterfactual)"
   ]
  },
  {
   "cell_type": "code",
   "execution_count": 33,
   "id": "31b238fa",
   "metadata": {},
   "outputs": [
    {
     "data": {
      "image/png": "[encoded data removed]",
      "text/plain": [
       "<Figure size 576x360 with 1 Axes>"
      ]
     },
     "metadata": {
      "needs_background": "light"
     },
     "output_type": "display_data"
    }
   ],
   "source": [
    "ACF.get_plots_CUF(acf_pred_probs, acf_pred_probs_CUF, error_acf, error_counterfactual_acf)"
   ]
  }
 ],
 "metadata": {
  "kernelspec": {
   "display_name": "Python 3",
   "language": "python",
   "name": "python3"
  },
  "language_info": {
   "codemirror_mode": {
    "name": "ipython",
    "version": 3
   },
   "file_extension": ".py",
   "mimetype": "text/x-python",
   "name": "python",
   "nbconvert_exporter": "python",
   "pygments_lexer": "ipython3",
   "version": "3.8.8"
  }
 },
 "nbformat": 4,
 "nbformat_minor": 5
}
